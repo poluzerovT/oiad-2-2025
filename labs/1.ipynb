{
 "cells": [
  {
   "cell_type": "markdown",
   "id": "200143ee",
   "metadata": {},
   "source": [
    "# ОИАД. Лабораторная работа №1\n",
    "\n",
    "Используйте набор данных 'datasets/teen_phone_addiction_dataset.csv'. \n",
    "\n",
    "Возьмите столбец $N \\% 7 $, где $N$ - номер в списке группы (см. ниже).\n",
    "\n",
    "## I. \n",
    "Рассчитайте характеристики:\n",
    "1. Среднее\n",
    "2. Дисперсия\n",
    "3. Мода\n",
    "4. Медиана\n",
    "5. Квантили уровня 0.25, 0.5, 0.75\n",
    "6. Эксцесс\n",
    "7. Ассиметрия\n",
    "8. Интерквартильный размах\n",
    "\n",
    "Построить графики:\n",
    "1. Гистограмма\n",
    "2. Эмпирическая функция распределения\n",
    "\n",
    "## II. \n",
    "Проверить данные на нормальность, используя критерии:\n",
    "1. Хи-квадрат (Реализовать самому, не используя библиотечные варианты!!)\n",
    "2. Ассиметрии и эксцесса\n",
    "\n",
    "Построить Q-Q plot\n",
    "\n",
    "## III. \n",
    "Используя техники обработки данных, постарайтесь привести данные к нормальному распределению.  Например, с помощью:\n",
    "1. Удаление, усечение выбросов\n",
    "2. Стандартизация, нормировка\n",
    "3. Логарифмирование и т.п.\n",
    "\n",
    "Выполните пункты I и II для обработанных данных\n",
    "\n",
    "## IV.\n",
    "Сгруппируйте данные по столбцу 'School_Grade'. \n",
    "\n",
    "1. На одном графике постройте гистограммы для каждой группы.\n",
    "2. Рассчитайте среднее, дисперсию внутри каждой группы\n",
    "\n",
    "## V.\n",
    "После каждого пункта сделайте промежуточные выводы:\n",
    "1. Опишите полученные числовые характеристики и графики\n",
    "2. Являются ли данные нормальными\n",
    "3. Эффект от обработки данных (удалось ли привести данные к нормальному виду)\n",
    "4. Различия распределений внутри разных групп 'School_Grade'\n",
    "\n",
    "\n"
   ]
  },
  {
   "cell_type": "code",
   "execution_count": null,
   "id": "fba77674",
   "metadata": {
    "ExecuteTime": {
     "end_time": "2025-09-12T11:48:54.173088Z",
     "start_time": "2025-09-12T11:48:54.166974Z"
    }
   },
   "source": [
    "N = 24\n",
    "cols = ['Daily_Usage_Hours', 'Sleep_Hours', 'Exercise_Hours', 'Screen_Time_Before_Bed', 'Time_on_Social_Media', 'Time_on_Gaming', 'Time_on_Education']\n",
    "cols[N % 7]"
   ],
   "outputs": [
    {
     "data": {
      "text/plain": [
       "'Screen_Time_Before_Bed'"
      ]
     },
     "execution_count": 2,
     "metadata": {},
     "output_type": "execute_result"
    }
   ],
   "source": [
    "N = 0\n",
    "cols = ['Daily_Usage_Hours', 'Sleep_Hours', 'Exercise_Hours', 'Screen_Time_Before_Bed', 'Time_on_Social_Media', 'Time_on_Gaming', 'Time_on_Education']\n",
    "cols[N % 7]"
   ]
  },
  {
   "cell_type": "code",
   "execution_count": null,
   "id": "1557135b-6279-4e1b-bd37-06af4e8a8b4e",
   "metadata": {},
   "outputs": [],
   "source": []
  }
 ],
 "metadata": {
  "kernelspec": {
   "display_name": "Python 3",
   "language": "python",
   "name": "python3"
  },
  "language_info": {
   "codemirror_mode": {
    "name": "ipython",
    "version": 3
   },
   "file_extension": ".py",
   "mimetype": "text/x-python",
   "name": "python",
   "nbconvert_exporter": "python",
   "pygments_lexer": "ipython3",
   "version": "3.10.12"
  }
 },
 "nbformat": 4,
 "nbformat_minor": 5
}
