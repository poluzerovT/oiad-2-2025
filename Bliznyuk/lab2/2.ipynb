{
 "cells": [
  {
   "cell_type": "code",
   "id": "initial_id",
   "metadata": {
    "collapsed": true,
    "ExecuteTime": {
     "end_time": "2025-10-31T12:23:33.958616Z",
     "start_time": "2025-10-31T12:23:30.076324Z"
    }
   },
   "source": [
    "from collections import Counter\n",
    "import pandas as pd\n",
    "from math import log2\n",
    "import matplotlib.pyplot as plt\n",
    "from scipy.stats import fisher_exact"
   ],
   "outputs": [],
   "execution_count": 1
  },
  {
   "metadata": {
    "ExecuteTime": {
     "end_time": "2025-10-31T12:23:34.015231Z",
     "start_time": "2025-10-31T12:23:33.991855Z"
    }
   },
   "cell_type": "code",
   "source": [
    "N = 3\n",
    "\n",
    "data = pd.read_csv(\"../../datasets/students_simple.csv\")"
   ],
   "id": "77991e155e7d50e0",
   "outputs": [],
   "execution_count": 2
  },
  {
   "metadata": {
    "ExecuteTime": {
     "end_time": "2025-10-31T12:23:34.054610Z",
     "start_time": "2025-10-31T12:23:34.039412Z"
    }
   },
   "cell_type": "code",
   "source": [
    "def prepare_numbers(N):\n",
    "    N1 = N % 5\n",
    "    N2 = (N ** 2) % 5 + 5\n",
    "    return N1, N2\n",
    "\n",
    "N1, N2 = prepare_numbers(N)\n",
    "N1, N2"
   ],
   "id": "b1bde1477401f049",
   "outputs": [
    {
     "data": {
      "text/plain": [
       "(3, 9)"
      ]
     },
     "execution_count": 3,
     "metadata": {},
     "output_type": "execute_result"
    }
   ],
   "execution_count": 3
  },
  {
   "metadata": {
    "ExecuteTime": {
     "end_time": "2025-10-31T12:23:34.177464Z",
     "start_time": "2025-10-31T12:23:34.163648Z"
    }
   },
   "cell_type": "code",
   "source": [
    "x = data.iloc[:, N1]  #iq\n",
    "x"
   ],
   "id": "b6126f8bd85e39d3",
   "outputs": [
    {
     "data": {
      "text/plain": [
       "0      95\n",
       "1     115\n",
       "2     111\n",
       "3      97\n",
       "4     105\n",
       "5      98\n",
       "6     109\n",
       "7     120\n",
       "8     122\n",
       "9      92\n",
       "10    110\n",
       "11    102\n",
       "12    108\n",
       "13    100\n",
       "14    104\n",
       "15    104\n",
       "16    128\n",
       "17    106\n",
       "18    105\n",
       "19    117\n",
       "Name: iq, dtype: int64"
      ]
     },
     "execution_count": 4,
     "metadata": {},
     "output_type": "execute_result"
    }
   ],
   "execution_count": 4
  },
  {
   "metadata": {
    "ExecuteTime": {
     "end_time": "2025-10-31T12:23:34.282196Z",
     "start_time": "2025-10-31T12:23:34.268263Z"
    }
   },
   "cell_type": "code",
   "source": [
    "n = x.shape[0]\n",
    "n"
   ],
   "id": "928d0f0d15e9b4c9",
   "outputs": [
    {
     "data": {
      "text/plain": [
       "20"
      ]
     },
     "execution_count": 5,
     "metadata": {},
     "output_type": "execute_result"
    }
   ],
   "execution_count": 5
  },
  {
   "metadata": {
    "ExecuteTime": {
     "end_time": "2025-10-31T12:23:34.332885Z",
     "start_time": "2025-10-31T12:23:34.319346Z"
    }
   },
   "cell_type": "code",
   "source": [
    "y = data.iloc[:, N2]  #test_time\n",
    "y"
   ],
   "id": "15151ff53a70afdf",
   "outputs": [
    {
     "data": {
      "text/plain": [
       "0      8.5\n",
       "1      6.2\n",
       "2      6.8\n",
       "3     12.0\n",
       "4      7.5\n",
       "5     10.0\n",
       "6      7.2\n",
       "7      4.2\n",
       "8      3.5\n",
       "9      9.5\n",
       "10     7.8\n",
       "11     8.0\n",
       "12     6.0\n",
       "13     4.8\n",
       "14     8.6\n",
       "15    10.0\n",
       "16     4.5\n",
       "17    12.5\n",
       "18    10.5\n",
       "19     6.5\n",
       "Name: test_time, dtype: float64"
      ]
     },
     "execution_count": 6,
     "metadata": {},
     "output_type": "execute_result"
    }
   ],
   "execution_count": 6
  },
  {
   "metadata": {
    "ExecuteTime": {
     "end_time": "2025-10-31T12:23:34.455228Z",
     "start_time": "2025-10-31T12:23:34.435624Z"
    }
   },
   "cell_type": "code",
   "source": [
    "import numpy as np\n",
    "\n",
    "def calculate_fechner(x, y):\n",
    "    x_sign = np.sign(x - x.mean())\n",
    "    y_sign = np.sign(y - y.mean())\n",
    "\n",
    "    N_minus = np.count_nonzero(x_sign - y_sign)\n",
    "    N_plus = x.shape[0] - N_minus\n",
    "\n",
    "    fechner_corr = (N_plus - N_minus) / (N_plus + N_minus)\n",
    "    return fechner_corr\n",
    "\n",
    "calculate_fechner(x, y)"
   ],
   "id": "a25dd465de8fa400",
   "outputs": [
    {
     "data": {
      "text/plain": [
       "np.float64(-0.7)"
      ]
     },
     "execution_count": 7,
     "metadata": {},
     "output_type": "execute_result"
    }
   ],
   "execution_count": 7
  },
  {
   "metadata": {
    "ExecuteTime": {
     "end_time": "2025-10-31T12:23:34.516010Z",
     "start_time": "2025-10-31T12:23:34.496514Z"
    }
   },
   "cell_type": "code",
   "source": [
    "def calculate_pirson(x, y):\n",
    "    x_norm = x - x.mean()\n",
    "    y_norm = y - y.mean()\n",
    "\n",
    "    pirson_corr = np.sum(x_norm * y_norm) / (x.shape[0] * np.std(x_norm) * np.std(y_norm))\n",
    "    return pirson_corr\n",
    "\n",
    "calculate_pirson(x, y)"
   ],
   "id": "d8f3f6f6723120ee",
   "outputs": [
    {
     "data": {
      "text/plain": [
       "np.float64(-0.6818137442428807)"
      ]
     },
     "execution_count": 8,
     "metadata": {},
     "output_type": "execute_result"
    }
   ],
   "execution_count": 8
  },
  {
   "metadata": {
    "ExecuteTime": {
     "end_time": "2025-10-31T12:23:34.573710Z",
     "start_time": "2025-10-31T12:23:34.558043Z"
    }
   },
   "cell_type": "code",
   "source": [
    "import numpy as np\n",
    "from scipy.stats import norm\n",
    "\n",
    "def pirson_confidence_interval(x, y, confidence=0.95):\n",
    "    r = calculate_pirson(x, y)\n",
    "    z = 0.5 * np.log((1 + r) / (1 - r))\n",
    "    se = 1 / np.sqrt(n - 3)\n",
    "\n",
    "    z_crit = norm.ppf(1 - (1 - confidence) / 2)\n",
    "\n",
    "    z_lower = z - z_crit * se\n",
    "    z_upper = z + z_crit * se\n",
    "\n",
    "    r_lower = (np.exp(2 * z_lower) - 1) / (np.exp(2 * z_lower) + 1)\n",
    "    r_upper = (np.exp(2 * z_upper) - 1) / (np.exp(2 * z_upper) + 1)\n",
    "\n",
    "    return (r_lower, r_upper)\n",
    "\n",
    "low, high = pirson_confidence_interval(x, y)\n",
    "low, high"
   ],
   "id": "bce580d2c2ed9117",
   "outputs": [
    {
     "data": {
      "text/plain": [
       "(np.float64(-0.8637320870296654), np.float64(-0.3426875305481858))"
      ]
     },
     "execution_count": 9,
     "metadata": {},
     "output_type": "execute_result"
    }
   ],
   "execution_count": 9
  },
  {
   "metadata": {
    "ExecuteTime": {
     "end_time": "2025-10-31T12:23:34.616542Z",
     "start_time": "2025-10-31T12:23:34.598349Z"
    }
   },
   "cell_type": "code",
   "source": [
    "pirson_corr = calculate_pirson(x, y)\n",
    "\n",
    "np.sqrt(1 - pirson_corr ** 2) / np.sqrt(n-2)"
   ],
   "id": "edbe1a44e3066d10",
   "outputs": [
    {
     "data": {
      "text/plain": [
       "np.float64(0.17242228815735186)"
      ]
     },
     "execution_count": 10,
     "metadata": {},
     "output_type": "execute_result"
    }
   ],
   "execution_count": 10
  },
  {
   "metadata": {
    "ExecuteTime": {
     "end_time": "2025-10-31T12:23:34.665744Z",
     "start_time": "2025-10-31T12:23:34.643053Z"
    }
   },
   "cell_type": "code",
   "source": [
    "from scipy.stats import rankdata\n",
    "\n",
    "x_rank = rankdata(x)\n",
    "y_rank = rankdata(y)\n",
    "\n",
    "def calculate_spierman(x_rank, y_rank):\n",
    "    counter1 = Counter(x_rank)\n",
    "    counter2 = Counter(y_rank)\n",
    "    term = ((n ** 3 - n) / 6)\n",
    "    T_x = sum(k ** 3 - k for _, k in counter1.items()) / 12\n",
    "    T_y = sum(k ** 3 - k for _, k in counter2.items()) / 12\n",
    "    numerator = term - np.sum(np.pow(x_rank - y_rank, 2)) - T_x - T_y\n",
    "    denominator = np.sqrt((term - T_x) * (term - T_y))\n",
    "    spierman_corr = numerator / denominator\n",
    "    return spierman_corr\n",
    "\n",
    "calculate_spierman(x_rank, y_rank)"
   ],
   "id": "d0c0197032e40b4e",
   "outputs": [
    {
     "data": {
      "text/plain": [
       "np.float64(-0.68196352532076)"
      ]
     },
     "execution_count": 11,
     "metadata": {},
     "output_type": "execute_result"
    }
   ],
   "execution_count": 11
  },
  {
   "metadata": {
    "ExecuteTime": {
     "end_time": "2025-10-31T12:23:34.700772Z",
     "start_time": "2025-10-31T12:23:34.683896Z"
    }
   },
   "cell_type": "code",
   "source": [
    "def calculate_kendall(x_rank, y_rank):\n",
    "    concordant = 0\n",
    "    discordant = 0\n",
    "    x_ties = 0\n",
    "    y_ties = 0\n",
    "\n",
    "    for i in range(n):\n",
    "        for j in range(i + 1, n):\n",
    "            x_diff = x_rank[i] - x_rank[j]\n",
    "            y_diff = y_rank[i] - y_rank[j]\n",
    "\n",
    "            product = x_diff * y_diff\n",
    "\n",
    "            if product > 0:\n",
    "                concordant += 1\n",
    "            elif product < 0:\n",
    "                discordant += 1\n",
    "            else:\n",
    "                if x_diff == 0:\n",
    "                    x_ties += 1\n",
    "                if y_diff == 0:\n",
    "                    y_ties += 1\n",
    "\n",
    "    total_pairs = n * (n - 1) // 2\n",
    "    numerator = concordant - discordant\n",
    "    denominator = np.sqrt((total_pairs - x_ties) * (total_pairs - y_ties))\n",
    "\n",
    "    kendall_corr = numerator / denominator\n",
    "    return kendall_corr\n",
    "\n",
    "calculate_kendall(x, y)\n",
    "\n"
   ],
   "id": "b8c323ac021e0a4a",
   "outputs": [
    {
     "data": {
      "text/plain": [
       "np.float64(-0.503980552812724)"
      ]
     },
     "execution_count": 12,
     "metadata": {},
     "output_type": "execute_result"
    }
   ],
   "execution_count": 12
  },
  {
   "metadata": {
    "ExecuteTime": {
     "end_time": "2025-10-31T12:23:34.967989Z",
     "start_time": "2025-10-31T12:23:34.716227Z"
    }
   },
   "cell_type": "code",
   "source": "plt.hist(x, bins=1+int(log2(n)))",
   "id": "282560b4dc1ade71",
   "outputs": [
    {
     "data": {
      "text/plain": [
       "(array([4., 7., 4., 3., 2.]),\n",
       " array([ 92. ,  99.2, 106.4, 113.6, 120.8, 128. ]),\n",
       " <BarContainer object of 5 artists>)"
      ]
     },
     "execution_count": 13,
     "metadata": {},
     "output_type": "execute_result"
    },
    {
     "data": {
      "text/plain": [
       "<Figure size 640x480 with 1 Axes>"
      ],
      "image/png": "[encoded data removed]"
     },
     "metadata": {},
     "output_type": "display_data",
     "jetTransient": {
      "display_id": null
     }
    }
   ],
   "execution_count": 13
  },
  {
   "metadata": {
    "ExecuteTime": {
     "end_time": "2025-10-31T12:23:35.264074Z",
     "start_time": "2025-10-31T12:23:34.976173Z"
    }
   },
   "cell_type": "code",
   "source": "plt.hist(x, bins=n)",
   "id": "4f29e25dc467657d",
   "outputs": [
    {
     "data": {
      "text/plain": [
       "(array([1., 1., 1., 1., 1., 1., 2., 3., 1., 1., 2., 0., 1., 1., 0., 1., 1.,\n",
       "        0., 0., 1.]),\n",
       " array([ 92. ,  93.8,  95.6,  97.4,  99.2, 101. , 102.8, 104.6, 106.4,\n",
       "        108.2, 110. , 111.8, 113.6, 115.4, 117.2, 119. , 120.8, 122.6,\n",
       "        124.4, 126.2, 128. ]),\n",
       " <BarContainer object of 20 artists>)"
      ]
     },
     "execution_count": 14,
     "metadata": {},
     "output_type": "execute_result"
    },
    {
     "data": {
      "text/plain": [
       "<Figure size 640x480 with 1 Axes>"
      ],
      "image/png": "[encoded data removed]"
     },
     "metadata": {},
     "output_type": "display_data",
     "jetTransient": {
      "display_id": null
     }
    }
   ],
   "execution_count": 14
  },
  {
   "metadata": {
    "ExecuteTime": {
     "end_time": "2025-10-31T12:23:35.492583Z",
     "start_time": "2025-10-31T12:23:35.292343Z"
    }
   },
   "cell_type": "code",
   "source": "plt.hist(y, bins=1+int(log2(n)))",
   "id": "fd51674382deea24",
   "outputs": [
    {
     "data": {
      "text/plain": [
       "(array([4., 4., 6., 4., 2.]),\n",
       " array([ 3.5,  5.3,  7.1,  8.9, 10.7, 12.5]),\n",
       " <BarContainer object of 5 artists>)"
      ]
     },
     "execution_count": 15,
     "metadata": {},
     "output_type": "execute_result"
    },
    {
     "data": {
      "text/plain": [
       "<Figure size 640x480 with 1 Axes>"
      ],
      "image/png": "[encoded data removed]"
     },
     "metadata": {},
     "output_type": "display_data",
     "jetTransient": {
      "display_id": null
     }
    }
   ],
   "execution_count": 15
  },
  {
   "metadata": {
    "ExecuteTime": {
     "end_time": "2025-10-31T12:23:35.849203Z",
     "start_time": "2025-10-31T12:23:35.533516Z"
    }
   },
   "cell_type": "code",
   "source": "plt.hist(y, bins=n)",
   "id": "641bf6f5dc03ff34",
   "outputs": [
    {
     "data": {
      "text/plain": [
       "(array([1., 1., 2., 0., 0., 1., 2., 1., 2., 1., 1., 2., 0., 1., 2., 1., 0.,\n",
       "        0., 1., 1.]),\n",
       " array([ 3.5 ,  3.95,  4.4 ,  4.85,  5.3 ,  5.75,  6.2 ,  6.65,  7.1 ,\n",
       "         7.55,  8.  ,  8.45,  8.9 ,  9.35,  9.8 , 10.25, 10.7 , 11.15,\n",
       "        11.6 , 12.05, 12.5 ]),\n",
       " <BarContainer object of 20 artists>)"
      ]
     },
     "execution_count": 16,
     "metadata": {},
     "output_type": "execute_result"
    },
    {
     "data": {
      "text/plain": [
       "<Figure size 640x480 with 1 Axes>"
      ],
      "image/png": "[encoded data removed]"
     },
     "metadata": {},
     "output_type": "display_data",
     "jetTransient": {
      "display_id": null
     }
    }
   ],
   "execution_count": 16
  },
  {
   "metadata": {
    "ExecuteTime": {
     "end_time": "2025-10-31T12:23:36.136797Z",
     "start_time": "2025-10-31T12:23:35.882051Z"
    }
   },
   "cell_type": "code",
   "source": "plt.scatter(x, y)",
   "id": "8ca3ca9ec7f6f68f",
   "outputs": [
    {
     "data": {
      "text/plain": [
       "<matplotlib.collections.PathCollection at 0x1f33b605250>"
      ]
     },
     "execution_count": 17,
     "metadata": {},
     "output_type": "execute_result"
    },
    {
     "data": {
      "text/plain": [
       "<Figure size 640x480 with 1 Axes>"
      ],
      "image/png": "[encoded data removed]"
     },
     "metadata": {},
     "output_type": "display_data",
     "jetTransient": {
      "display_id": null
     }
    }
   ],
   "execution_count": 17
  },
  {
   "metadata": {
    "ExecuteTime": {
     "end_time": "2025-10-31T12:23:36.203574Z",
     "start_time": "2025-10-31T12:23:36.195213Z"
    }
   },
   "cell_type": "code",
   "source": [
    "a = pirson_corr * np.std(y) / np.std(x)\n",
    "b = np.mean(y) - a * np.mean(x)"
   ],
   "id": "4302a9a073b95ad5",
   "outputs": [],
   "execution_count": 18
  },
  {
   "metadata": {
    "ExecuteTime": {
     "end_time": "2025-10-31T12:23:36.441675Z",
     "start_time": "2025-10-31T12:23:36.217744Z"
    }
   },
   "cell_type": "code",
   "source": [
    "plt.scatter(x, y, color='blue', label='Данные')\n",
    "\n",
    "x_line = np.linspace(min(x), max(x), 100)\n",
    "y_line = a * x_line + b\n",
    "\n",
    "plt.plot(x_line, y_line, color='red', label=f'y = {a}x + {b}')\n",
    "\n",
    "plt.xlabel('X')\n",
    "plt.ylabel('Y')\n",
    "plt.legend()\n",
    "plt.grid(True)\n",
    "plt.show()"
   ],
   "id": "1a1be07f8d69cc96",
   "outputs": [
    {
     "data": {
      "text/plain": [
       "<Figure size 640x480 with 1 Axes>"
      ],
      "image/png": "[encoded data removed]"
     },
     "metadata": {},
     "output_type": "display_data",
     "jetTransient": {
      "display_id": null
     }
    }
   ],
   "execution_count": 19
  },
  {
   "metadata": {
    "ExecuteTime": {
     "end_time": "2025-10-31T12:23:36.582396Z",
     "start_time": "2025-10-31T12:23:36.529670Z"
    }
   },
   "cell_type": "code",
   "source": [
    "X_n = np.c_[np.ones(n), x, x**2]\n",
    "y_n = y\n",
    "XtX = X_n.T @ X_n\n",
    "XtX_inv = np.linalg.inv(XtX)\n",
    "Xty = X_n.T @ y_n\n",
    "beta = XtX_inv @ Xty\n",
    "beta"
   ],
   "id": "15e52d42e619f6c3",
   "outputs": [
    {
     "data": {
      "text/plain": [
       "array([-1.18826559e+01,  5.39594178e-01, -3.29986046e-03])"
      ]
     },
     "execution_count": 20,
     "metadata": {},
     "output_type": "execute_result"
    }
   ],
   "execution_count": 20
  },
  {
   "metadata": {
    "ExecuteTime": {
     "end_time": "2025-10-31T12:23:36.887392Z",
     "start_time": "2025-10-31T12:23:36.653410Z"
    }
   },
   "cell_type": "code",
   "source": [
    "plt.scatter(x, y, color='blue', label='Данные')\n",
    "\n",
    "x_line = np.linspace(min(x), max(x), 100)\n",
    "y_line = beta[2] * np.pow(x_line, 2) + beta[1] * x_line + beta[0]\n",
    "\n",
    "plt.plot(x_line, y_line, color='red', label=f'y = {beta[2]}x^2 + {beta[1]}x + {beta[0]}')\n",
    "\n",
    "plt.xlabel('X')\n",
    "plt.ylabel('Y')\n",
    "plt.legend()\n",
    "plt.grid(True)\n",
    "plt.show()"
   ],
   "id": "68f3d1125fb1e0bb",
   "outputs": [
    {
     "data": {
      "text/plain": [
       "<Figure size 640x480 with 1 Axes>"
      ],
      "image/png": "[encoded data removed]"
     },
     "metadata": {},
     "output_type": "display_data",
     "jetTransient": {
      "display_id": null
     }
    }
   ],
   "execution_count": 21
  },
  {
   "metadata": {
    "ExecuteTime": {
     "end_time": "2025-10-31T12:23:36.932274Z",
     "start_time": "2025-10-31T12:23:36.920078Z"
    }
   },
   "cell_type": "code",
   "source": [
    "x_inv = 1 / x\n",
    "X_n = np.c_[np.ones(n), x_inv]\n",
    "y_n = y\n",
    "XtX = X_n.T @ X_n\n",
    "XtX_inv = np.linalg.inv(XtX)\n",
    "Xty = X_n.T @ y_n\n",
    "beta = XtX_inv @ Xty\n",
    "beta"
   ],
   "id": "ee2f4c1e93a20c6c",
   "outputs": [
    {
     "data": {
      "text/plain": [
       "array([ -11.88594408, 2091.874046  ])"
      ]
     },
     "execution_count": 22,
     "metadata": {},
     "output_type": "execute_result"
    }
   ],
   "execution_count": 22
  },
  {
   "metadata": {
    "ExecuteTime": {
     "end_time": "2025-10-31T12:23:37.208186Z",
     "start_time": "2025-10-31T12:23:36.971396Z"
    }
   },
   "cell_type": "code",
   "source": [
    "plt.scatter(x, y, color='blue', label='Данные')\n",
    "\n",
    "x_line = np.linspace(min(x), max(x), 100)\n",
    "y_line = (beta[1] / x_line) + beta[0]\n",
    "\n",
    "plt.plot(x_line, y_line, color='red', label=f'y = {beta[1]}/x + {beta[0]}')\n",
    "\n",
    "plt.xlabel('X')\n",
    "plt.ylabel('Y')\n",
    "plt.legend()\n",
    "plt.grid(True)\n",
    "plt.show()"
   ],
   "id": "129f6a4c66d794ce",
   "outputs": [
    {
     "data": {
      "text/plain": [
       "<Figure size 640x480 with 1 Axes>"
      ],
      "image/png": "[encoded data removed]"
     },
     "metadata": {},
     "output_type": "display_data",
     "jetTransient": {
      "display_id": null
     }
    }
   ],
   "execution_count": 23
  },
  {
   "metadata": {
    "ExecuteTime": {
     "end_time": "2025-10-31T12:23:37.402174Z",
     "start_time": "2025-10-31T12:23:37.232573Z"
    }
   },
   "cell_type": "code",
   "source": "fisher_exact([(beta[1] / x) + beta[0], y])",
   "id": "750020f1a211a124",
   "outputs": [
    {
     "data": {
      "text/plain": [
       "SignificanceResult(statistic=np.float64(4.294976267716137e-14), pvalue=np.float64(0.9998))"
      ]
     },
     "execution_count": 24,
     "metadata": {},
     "output_type": "execute_result"
    }
   ],
   "execution_count": 24
  },
  {
   "metadata": {
    "ExecuteTime": {
     "end_time": "2025-10-31T12:23:37.489203Z",
     "start_time": "2025-10-31T12:23:37.473088Z"
    }
   },
   "cell_type": "code",
   "source": [
    "x_inv = x\n",
    "X_n = np.c_[np.ones(n), x]\n",
    "y_n = np.log(y)\n",
    "XtX = X_n.T @ X_n\n",
    "XtX_inv = np.linalg.inv(XtX)\n",
    "Xty = X_n.T @ y_n\n",
    "beta = XtX_inv @ Xty\n",
    "beta"
   ],
   "id": "1b7caf2b5748094a",
   "outputs": [
    {
     "data": {
      "text/plain": [
       "array([ 4.87367985, -0.02685064])"
      ]
     },
     "execution_count": 25,
     "metadata": {},
     "output_type": "execute_result"
    }
   ],
   "execution_count": 25
  },
  {
   "metadata": {
    "ExecuteTime": {
     "end_time": "2025-10-31T12:23:37.763014Z",
     "start_time": "2025-10-31T12:23:37.575776Z"
    }
   },
   "cell_type": "code",
   "source": [
    "plt.scatter(x, y, color='blue', label='Данные')\n",
    "\n",
    "x_line = np.linspace(min(x), max(x), 100)\n",
    "y_line = np.exp((beta[1] * x_line) + beta[0])\n",
    "\n",
    "plt.plot(x_line, y_line, color='red')\n",
    "\n",
    "plt.xlabel('X')\n",
    "plt.ylabel('Y')\n",
    "plt.legend()\n",
    "plt.grid(True)\n",
    "plt.show()"
   ],
   "id": "ce803ae7ed3c69e2",
   "outputs": [
    {
     "data": {
      "text/plain": [
       "<Figure size 640x480 with 1 Axes>"
      ],
      "image/png": "[encoded data removed]"
     },
     "metadata": {},
     "output_type": "display_data",
     "jetTransient": {
      "display_id": null
     }
    }
   ],
   "execution_count": 26
  },
  {
   "metadata": {
    "ExecuteTime": {
     "end_time": "2025-10-31T12:23:37.921329Z",
     "start_time": "2025-10-31T12:23:37.793020Z"
    }
   },
   "cell_type": "code",
   "source": "fisher_exact([a * x + b, y])",
   "id": "413cbed2d0f153fc",
   "outputs": [
    {
     "data": {
      "text/plain": [
       "SignificanceResult(statistic=np.float64(3.988192248594162e-14), pvalue=np.float64(0.999))"
      ]
     },
     "execution_count": 27,
     "metadata": {},
     "output_type": "execute_result"
    }
   ],
   "execution_count": 27
  }
 ],
 "metadata": {
  "kernelspec": {
   "display_name": "Python 3",
   "language": "python",
   "name": "python3"
  },
  "language_info": {
   "codemirror_mode": {
    "name": "ipython",
    "version": 2
   },
   "file_extension": ".py",
   "mimetype": "text/x-python",
   "name": "python",
   "nbconvert_exporter": "python",
   "pygments_lexer": "ipython2",
   "version": "2.7.6"
  }
 },
 "nbformat": 4,
 "nbformat_minor": 5
}
