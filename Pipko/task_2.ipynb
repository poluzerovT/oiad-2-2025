{
  "cells": [
    {
      "cell_type": "markdown",
      "id": "ab781378",
      "metadata": {
        "id": "ab781378"
      },
      "source": [
        "# ОИАД. Лабораторная работа №2"
      ]
    },
    {
      "cell_type": "markdown",
      "id": "3cad1733",
      "metadata": {
        "id": "3cad1733"
      },
      "source": [
        "# Библиотеки"
      ]
    },
    {
      "cell_type": "code",
      "execution_count": 1,
      "id": "b0099560",
      "metadata": {
        "id": "b0099560"
      },
      "outputs": [],
      "source": [
        "import pandas as pd\n",
        "import numpy as np\n",
        "from scipy import stats\n",
        "import matplotlib.pyplot as plt\n",
        "import seaborn as sns\n",
        "from sklearn.linear_model import LinearRegression\n",
        "from sklearn.preprocessing import PolynomialFeatures"
      ]
    },
    {
      "cell_type": "markdown",
      "id": "46f1082a",
      "metadata": {
        "id": "46f1082a"
      },
      "source": [
        "## Входные данные\n",
        "Датасет: **datasets/students_simple.csv**\n",
        "Выбираются 2 слобика данных по формулам:\n",
        "1) N % 5\n",
        "2) $N^2$ % 5 + 5\n",
        "где $N$ - номер в списке"
      ]
    },
    {
      "cell_type": "code",
      "execution_count": 2,
      "id": "7aecfe26",
      "metadata": {
        "colab": {
          "base_uri": "https://localhost:8080/",
          "height": 676
        },
        "id": "7aecfe26",
        "outputId": "97f3b02a-f0f5-4cc5-9275-f5eaca0aaba2"
      },
      "outputs": [
        {
          "output_type": "display_data",
          "data": {
            "text/plain": [
              "    height  mass  income   iq  pages  age    bmi  work_exp  friends  test_time\n",
              "0      159    45     430   95     24   20  3.533        26        5        8.5\n",
              "1      160    61     640  115     32   25  2.623        63        7        6.2\n",
              "2      161    56     610  111     24   28  2.875        94       10        6.8\n",
              "3      162    48     330   97     24   19  3.375        16        4       12.0\n",
              "4      162    54     420  105     60   23  3.000        49        2        7.5\n",
              "5      164    58     290   98     16   20  2.828        14        6       10.0\n",
              "6      166    51     480  109     90   26  3.255        78        9        7.2\n",
              "7      169    62     610  120     24   19  2.726        10        5        4.2\n",
              "8      170    70     840  122     48   30  2.429       130       10        3.5\n",
              "9      170    72     330   92     24   20  2.361        20        3        9.5\n",
              "10     171    73     560  110     16   28  2.342        86        8        7.8\n",
              "11     171    64     450  102     48   21  2.672        29        4        8.0\n",
              "12     172    73     350  108     32   26  2.356        75        7        6.0\n",
              "13     174    68     310  100     48   21  2.559        22        4        4.8\n",
              "14     176    81     380  104     64   20  2.173        32        1        8.6\n",
              "15     176    84     340  104     48   19  2.095        21        5       10.0\n",
              "16     178    76     660  128     90   27  2.342        96        8        4.5\n",
              "17     181    90     450  106     48   26  2.011        70        9       12.5\n",
              "18     183    68     540  105     32   23  2.691        59        6       10.5\n",
              "19     192    95     750  117     60   27  2.021        98        4        6.5"
            ],
            "text/html": [
              "\n",
              "  <div id=\"df-103acf4d-e73e-4ccc-9589-3ab7537610de\" class=\"colab-df-container\">\n",
              "    <div>\n",
              "<style scoped>\n",
              "    .dataframe tbody tr th:only-of-type {\n",
              "        vertical-align: middle;\n",
              "    }\n",
              "\n",
              "    .dataframe tbody tr th {\n",
              "        vertical-align: top;\n",
              "    }\n",
              "\n",
              "    .dataframe thead th {\n",
              "        text-align: right;\n",
              "    }\n",
              "</style>\n",
              "<table border=\"1\" class=\"dataframe\">\n",
              "  <thead>\n",
              "    <tr style=\"text-align: right;\">\n",
              "      <th></th>\n",
              "      <th>height</th>\n",
              "      <th>mass</th>\n",
              "      <th>income</th>\n",
              "      <th>iq</th>\n",
              "      <th>pages</th>\n",
              "      <th>age</th>\n",
              "      <th>bmi</th>\n",
              "      <th>work_exp</th>\n",
              "      <th>friends</th>\n",
              "      <th>test_time</th>\n",
              "    </tr>\n",
              "  </thead>\n",
              "  <tbody>\n",
              "    <tr>\n",
              "      <th>0</th>\n",
              "      <td>159</td>\n",
              "      <td>45</td>\n",
              "      <td>430</td>\n",
              "      <td>95</td>\n",
              "      <td>24</td>\n",
              "      <td>20</td>\n",
              "      <td>3.533</td>\n",
              "      <td>26</td>\n",
              "      <td>5</td>\n",
              "      <td>8.5</td>\n",
              "    </tr>\n",
              "    <tr>\n",
              "      <th>1</th>\n",
              "      <td>160</td>\n",
              "      <td>61</td>\n",
              "      <td>640</td>\n",
              "      <td>115</td>\n",
              "      <td>32</td>\n",
              "      <td>25</td>\n",
              "      <td>2.623</td>\n",
              "      <td>63</td>\n",
              "      <td>7</td>\n",
              "      <td>6.2</td>\n",
              "    </tr>\n",
              "    <tr>\n",
              "      <th>2</th>\n",
              "      <td>161</td>\n",
              "      <td>56</td>\n",
              "      <td>610</td>\n",
              "      <td>111</td>\n",
              "      <td>24</td>\n",
              "      <td>28</td>\n",
              "      <td>2.875</td>\n",
              "      <td>94</td>\n",
              "      <td>10</td>\n",
              "      <td>6.8</td>\n",
              "    </tr>\n",
              "    <tr>\n",
              "      <th>3</th>\n",
              "      <td>162</td>\n",
              "      <td>48</td>\n",
              "      <td>330</td>\n",
              "      <td>97</td>\n",
              "      <td>24</td>\n",
              "      <td>19</td>\n",
              "      <td>3.375</td>\n",
              "      <td>16</td>\n",
              "      <td>4</td>\n",
              "      <td>12.0</td>\n",
              "    </tr>\n",
              "    <tr>\n",
              "      <th>4</th>\n",
              "      <td>162</td>\n",
              "      <td>54</td>\n",
              "      <td>420</td>\n",
              "      <td>105</td>\n",
              "      <td>60</td>\n",
              "      <td>23</td>\n",
              "      <td>3.000</td>\n",
              "      <td>49</td>\n",
              "      <td>2</td>\n",
              "      <td>7.5</td>\n",
              "    </tr>\n",
              "    <tr>\n",
              "      <th>5</th>\n",
              "      <td>164</td>\n",
              "      <td>58</td>\n",
              "      <td>290</td>\n",
              "      <td>98</td>\n",
              "      <td>16</td>\n",
              "      <td>20</td>\n",
              "      <td>2.828</td>\n",
              "      <td>14</td>\n",
              "      <td>6</td>\n",
              "      <td>10.0</td>\n",
              "    </tr>\n",
              "    <tr>\n",
              "      <th>6</th>\n",
              "      <td>166</td>\n",
              "      <td>51</td>\n",
              "      <td>480</td>\n",
              "      <td>109</td>\n",
              "      <td>90</td>\n",
              "      <td>26</td>\n",
              "      <td>3.255</td>\n",
              "      <td>78</td>\n",
              "      <td>9</td>\n",
              "      <td>7.2</td>\n",
              "    </tr>\n",
              "    <tr>\n",
              "      <th>7</th>\n",
              "      <td>169</td>\n",
              "      <td>62</td>\n",
              "      <td>610</td>\n",
              "      <td>120</td>\n",
              "      <td>24</td>\n",
              "      <td>19</td>\n",
              "      <td>2.726</td>\n",
              "      <td>10</td>\n",
              "      <td>5</td>\n",
              "      <td>4.2</td>\n",
              "    </tr>\n",
              "    <tr>\n",
              "      <th>8</th>\n",
              "      <td>170</td>\n",
              "      <td>70</td>\n",
              "      <td>840</td>\n",
              "      <td>122</td>\n",
              "      <td>48</td>\n",
              "      <td>30</td>\n",
              "      <td>2.429</td>\n",
              "      <td>130</td>\n",
              "      <td>10</td>\n",
              "      <td>3.5</td>\n",
              "    </tr>\n",
              "    <tr>\n",
              "      <th>9</th>\n",
              "      <td>170</td>\n",
              "      <td>72</td>\n",
              "      <td>330</td>\n",
              "      <td>92</td>\n",
              "      <td>24</td>\n",
              "      <td>20</td>\n",
              "      <td>2.361</td>\n",
              "      <td>20</td>\n",
              "      <td>3</td>\n",
              "      <td>9.5</td>\n",
              "    </tr>\n",
              "    <tr>\n",
              "      <th>10</th>\n",
              "      <td>171</td>\n",
              "      <td>73</td>\n",
              "      <td>560</td>\n",
              "      <td>110</td>\n",
              "      <td>16</td>\n",
              "      <td>28</td>\n",
              "      <td>2.342</td>\n",
              "      <td>86</td>\n",
              "      <td>8</td>\n",
              "      <td>7.8</td>\n",
              "    </tr>\n",
              "    <tr>\n",
              "      <th>11</th>\n",
              "      <td>171</td>\n",
              "      <td>64</td>\n",
              "      <td>450</td>\n",
              "      <td>102</td>\n",
              "      <td>48</td>\n",
              "      <td>21</td>\n",
              "      <td>2.672</td>\n",
              "      <td>29</td>\n",
              "      <td>4</td>\n",
              "      <td>8.0</td>\n",
              "    </tr>\n",
              "    <tr>\n",
              "      <th>12</th>\n",
              "      <td>172</td>\n",
              "      <td>73</td>\n",
              "      <td>350</td>\n",
              "      <td>108</td>\n",
              "      <td>32</td>\n",
              "      <td>26</td>\n",
              "      <td>2.356</td>\n",
              "      <td>75</td>\n",
              "      <td>7</td>\n",
              "      <td>6.0</td>\n",
              "    </tr>\n",
              "    <tr>\n",
              "      <th>13</th>\n",
              "      <td>174</td>\n",
              "      <td>68</td>\n",
              "      <td>310</td>\n",
              "      <td>100</td>\n",
              "      <td>48</td>\n",
              "      <td>21</td>\n",
              "      <td>2.559</td>\n",
              "      <td>22</td>\n",
              "      <td>4</td>\n",
              "      <td>4.8</td>\n",
              "    </tr>\n",
              "    <tr>\n",
              "      <th>14</th>\n",
              "      <td>176</td>\n",
              "      <td>81</td>\n",
              "      <td>380</td>\n",
              "      <td>104</td>\n",
              "      <td>64</td>\n",
              "      <td>20</td>\n",
              "      <td>2.173</td>\n",
              "      <td>32</td>\n",
              "      <td>1</td>\n",
              "      <td>8.6</td>\n",
              "    </tr>\n",
              "    <tr>\n",
              "      <th>15</th>\n",
              "      <td>176</td>\n",
              "      <td>84</td>\n",
              "      <td>340</td>\n",
              "      <td>104</td>\n",
              "      <td>48</td>\n",
              "      <td>19</td>\n",
              "      <td>2.095</td>\n",
              "      <td>21</td>\n",
              "      <td>5</td>\n",
              "      <td>10.0</td>\n",
              "    </tr>\n",
              "    <tr>\n",
              "      <th>16</th>\n",
              "      <td>178</td>\n",
              "      <td>76</td>\n",
              "      <td>660</td>\n",
              "      <td>128</td>\n",
              "      <td>90</td>\n",
              "      <td>27</td>\n",
              "      <td>2.342</td>\n",
              "      <td>96</td>\n",
              "      <td>8</td>\n",
              "      <td>4.5</td>\n",
              "    </tr>\n",
              "    <tr>\n",
              "      <th>17</th>\n",
              "      <td>181</td>\n",
              "      <td>90</td>\n",
              "      <td>450</td>\n",
              "      <td>106</td>\n",
              "      <td>48</td>\n",
              "      <td>26</td>\n",
              "      <td>2.011</td>\n",
              "      <td>70</td>\n",
              "      <td>9</td>\n",
              "      <td>12.5</td>\n",
              "    </tr>\n",
              "    <tr>\n",
              "      <th>18</th>\n",
              "      <td>183</td>\n",
              "      <td>68</td>\n",
              "      <td>540</td>\n",
              "      <td>105</td>\n",
              "      <td>32</td>\n",
              "      <td>23</td>\n",
              "      <td>2.691</td>\n",
              "      <td>59</td>\n",
              "      <td>6</td>\n",
              "      <td>10.5</td>\n",
              "    </tr>\n",
              "    <tr>\n",
              "      <th>19</th>\n",
              "      <td>192</td>\n",
              "      <td>95</td>\n",
              "      <td>750</td>\n",
              "      <td>117</td>\n",
              "      <td>60</td>\n",
              "      <td>27</td>\n",
              "      <td>2.021</td>\n",
              "      <td>98</td>\n",
              "      <td>4</td>\n",
              "      <td>6.5</td>\n",
              "    </tr>\n",
              "  </tbody>\n",
              "</table>\n",
              "</div>\n",
              "    <div class=\"colab-df-buttons\">\n",
              "\n",
              "  <div class=\"colab-df-container\">\n",
              "    <button class=\"colab-df-convert\" onclick=\"convertToInteractive('df-103acf4d-e73e-4ccc-9589-3ab7537610de')\"\n",
              "            title=\"Convert this dataframe to an interactive table.\"\n",
              "            style=\"display:none;\">\n",
              "\n",
              "  <svg xmlns=\"http://www.w3.org/2000/svg\" height=\"24px\" viewBox=\"0 -960 960 960\">\n",
              "    <path d=\"M120-120v-720h720v720H120Zm60-500h600v-160H180v160Zm220 220h160v-160H400v160Zm0 220h160v-160H400v160ZM180-400h160v-160H180v160Zm440 0h160v-160H620v160ZM180-180h160v-160H180v160Zm440 0h160v-160H620v160Z\"/>\n",
              "  </svg>\n",
              "    </button>\n",
              "\n",
              "  <style>\n",
              "    .colab-df-container {\n",
              "      display:flex;\n",
              "      gap: 12px;\n",
              "    }\n",
              "\n",
              "    .colab-df-convert {\n",
              "      background-color: #E8F0FE;\n",
              "      border: none;\n",
              "      border-radius: 50%;\n",
              "      cursor: pointer;\n",
              "      display: none;\n",
              "      fill: #1967D2;\n",
              "      height: 32px;\n",
              "      padding: 0 0 0 0;\n",
              "      width: 32px;\n",
              "    }\n",
              "\n",
              "    .colab-df-convert:hover {\n",
              "      background-color: #E2EBFA;\n",
              "      box-shadow: 0px 1px 2px rgba(60, 64, 67, 0.3), 0px 1px 3px 1px rgba(60, 64, 67, 0.15);\n",
              "      fill: #174EA6;\n",
              "    }\n",
              "\n",
              "    .colab-df-buttons div {\n",
              "      margin-bottom: 4px;\n",
              "    }\n",
              "\n",
              "    [theme=dark] .colab-df-convert {\n",
              "      background-color: #3B4455;\n",
              "      fill: #D2E3FC;\n",
              "    }\n",
              "\n",
              "    [theme=dark] .colab-df-convert:hover {\n",
              "      background-color: #434B5C;\n",
              "      box-shadow: 0px 1px 3px 1px rgba(0, 0, 0, 0.15);\n",
              "      filter: drop-shadow(0px 1px 2px rgba(0, 0, 0, 0.3));\n",
              "      fill: #FFFFFF;\n",
              "    }\n",
              "  </style>\n",
              "\n",
              "    <script>\n",
              "      const buttonEl =\n",
              "        document.querySelector('#df-103acf4d-e73e-4ccc-9589-3ab7537610de button.colab-df-convert');\n",
              "      buttonEl.style.display =\n",
              "        google.colab.kernel.accessAllowed ? 'block' : 'none';\n",
              "\n",
              "      async function convertToInteractive(key) {\n",
              "        const element = document.querySelector('#df-103acf4d-e73e-4ccc-9589-3ab7537610de');\n",
              "        const dataTable =\n",
              "          await google.colab.kernel.invokeFunction('convertToInteractive',\n",
              "                                                    [key], {});\n",
              "        if (!dataTable) return;\n",
              "\n",
              "        const docLinkHtml = 'Like what you see? Visit the ' +\n",
              "          '<a target=\"_blank\" href=https://colab.research.google.com/notebooks/data_table.ipynb>data table notebook</a>'\n",
              "          + ' to learn more about interactive tables.';\n",
              "        element.innerHTML = '';\n",
              "        dataTable['output_type'] = 'display_data';\n",
              "        await google.colab.output.renderOutput(dataTable, element);\n",
              "        const docLink = document.createElement('div');\n",
              "        docLink.innerHTML = docLinkHtml;\n",
              "        element.appendChild(docLink);\n",
              "      }\n",
              "    </script>\n",
              "  </div>\n",
              "\n",
              "\n",
              "    <div id=\"df-17ab15dd-722b-47ef-9274-1c17b213ba93\">\n",
              "      <button class=\"colab-df-quickchart\" onclick=\"quickchart('df-17ab15dd-722b-47ef-9274-1c17b213ba93')\"\n",
              "                title=\"Suggest charts\"\n",
              "                style=\"display:none;\">\n",
              "\n",
              "<svg xmlns=\"http://www.w3.org/2000/svg\" height=\"24px\"viewBox=\"0 0 24 24\"\n",
              "     width=\"24px\">\n",
              "    <g>\n",
              "        <path d=\"M19 3H5c-1.1 0-2 .9-2 2v14c0 1.1.9 2 2 2h14c1.1 0 2-.9 2-2V5c0-1.1-.9-2-2-2zM9 17H7v-7h2v7zm4 0h-2V7h2v10zm4 0h-2v-4h2v4z\"/>\n",
              "    </g>\n",
              "</svg>\n",
              "      </button>\n",
              "\n",
              "<style>\n",
              "  .colab-df-quickchart {\n",
              "      --bg-color: #E8F0FE;\n",
              "      --fill-color: #1967D2;\n",
              "      --hover-bg-color: #E2EBFA;\n",
              "      --hover-fill-color: #174EA6;\n",
              "      --disabled-fill-color: #AAA;\n",
              "      --disabled-bg-color: #DDD;\n",
              "  }\n",
              "\n",
              "  [theme=dark] .colab-df-quickchart {\n",
              "      --bg-color: #3B4455;\n",
              "      --fill-color: #D2E3FC;\n",
              "      --hover-bg-color: #434B5C;\n",
              "      --hover-fill-color: #FFFFFF;\n",
              "      --disabled-bg-color: #3B4455;\n",
              "      --disabled-fill-color: #666;\n",
              "  }\n",
              "\n",
              "  .colab-df-quickchart {\n",
              "    background-color: var(--bg-color);\n",
              "    border: none;\n",
              "    border-radius: 50%;\n",
              "    cursor: pointer;\n",
              "    display: none;\n",
              "    fill: var(--fill-color);\n",
              "    height: 32px;\n",
              "    padding: 0;\n",
              "    width: 32px;\n",
              "  }\n",
              "\n",
              "  .colab-df-quickchart:hover {\n",
              "    background-color: var(--hover-bg-color);\n",
              "    box-shadow: 0 1px 2px rgba(60, 64, 67, 0.3), 0 1px 3px 1px rgba(60, 64, 67, 0.15);\n",
              "    fill: var(--button-hover-fill-color);\n",
              "  }\n",
              "\n",
              "  .colab-df-quickchart-complete:disabled,\n",
              "  .colab-df-quickchart-complete:disabled:hover {\n",
              "    background-color: var(--disabled-bg-color);\n",
              "    fill: var(--disabled-fill-color);\n",
              "    box-shadow: none;\n",
              "  }\n",
              "\n",
              "  .colab-df-spinner {\n",
              "    border: 2px solid var(--fill-color);\n",
              "    border-color: transparent;\n",
              "    border-bottom-color: var(--fill-color);\n",
              "    animation:\n",
              "      spin 1s steps(1) infinite;\n",
              "  }\n",
              "\n",
              "  @keyframes spin {\n",
              "    0% {\n",
              "      border-color: transparent;\n",
              "      border-bottom-color: var(--fill-color);\n",
              "      border-left-color: var(--fill-color);\n",
              "    }\n",
              "    20% {\n",
              "      border-color: transparent;\n",
              "      border-left-color: var(--fill-color);\n",
              "      border-top-color: var(--fill-color);\n",
              "    }\n",
              "    30% {\n",
              "      border-color: transparent;\n",
              "      border-left-color: var(--fill-color);\n",
              "      border-top-color: var(--fill-color);\n",
              "      border-right-color: var(--fill-color);\n",
              "    }\n",
              "    40% {\n",
              "      border-color: transparent;\n",
              "      border-right-color: var(--fill-color);\n",
              "      border-top-color: var(--fill-color);\n",
              "    }\n",
              "    60% {\n",
              "      border-color: transparent;\n",
              "      border-right-color: var(--fill-color);\n",
              "    }\n",
              "    80% {\n",
              "      border-color: transparent;\n",
              "      border-right-color: var(--fill-color);\n",
              "      border-bottom-color: var(--fill-color);\n",
              "    }\n",
              "    90% {\n",
              "      border-color: transparent;\n",
              "      border-bottom-color: var(--fill-color);\n",
              "    }\n",
              "  }\n",
              "</style>\n",
              "\n",
              "      <script>\n",
              "        async function quickchart(key) {\n",
              "          const quickchartButtonEl =\n",
              "            document.querySelector('#' + key + ' button');\n",
              "          quickchartButtonEl.disabled = true;  // To prevent multiple clicks.\n",
              "          quickchartButtonEl.classList.add('colab-df-spinner');\n",
              "          try {\n",
              "            const charts = await google.colab.kernel.invokeFunction(\n",
              "                'suggestCharts', [key], {});\n",
              "          } catch (error) {\n",
              "            console.error('Error during call to suggestCharts:', error);\n",
              "          }\n",
              "          quickchartButtonEl.classList.remove('colab-df-spinner');\n",
              "          quickchartButtonEl.classList.add('colab-df-quickchart-complete');\n",
              "        }\n",
              "        (() => {\n",
              "          let quickchartButtonEl =\n",
              "            document.querySelector('#df-17ab15dd-722b-47ef-9274-1c17b213ba93 button');\n",
              "          quickchartButtonEl.style.display =\n",
              "            google.colab.kernel.accessAllowed ? 'block' : 'none';\n",
              "        })();\n",
              "      </script>\n",
              "    </div>\n",
              "    </div>\n",
              "  </div>\n"
            ],
            "application/vnd.google.colaboratory.intrinsic+json": {
              "type": "dataframe",
              "variable_name": "df",
              "summary": "{\n  \"name\": \"df\",\n  \"rows\": 20,\n  \"fields\": [\n    {\n      \"column\": \"height\",\n      \"properties\": {\n        \"dtype\": \"number\",\n        \"std\": 8,\n        \"min\": 159,\n        \"max\": 192,\n        \"num_unique_values\": 16,\n        \"samples\": [\n          159,\n          160,\n          166\n        ],\n        \"semantic_type\": \"\",\n        \"description\": \"\"\n      }\n    },\n    {\n      \"column\": \"mass\",\n      \"properties\": {\n        \"dtype\": \"number\",\n        \"std\": 13,\n        \"min\": 45,\n        \"max\": 95,\n        \"num_unique_values\": 18,\n        \"samples\": [\n          45,\n          61,\n          70\n        ],\n        \"semantic_type\": \"\",\n        \"description\": \"\"\n      }\n    },\n    {\n      \"column\": \"income\",\n      \"properties\": {\n        \"dtype\": \"number\",\n        \"std\": 156,\n        \"min\": 290,\n        \"max\": 840,\n        \"num_unique_values\": 17,\n        \"samples\": [\n          430,\n          640,\n          290\n        ],\n        \"semantic_type\": \"\",\n        \"description\": \"\"\n      }\n    },\n    {\n      \"column\": \"iq\",\n      \"properties\": {\n        \"dtype\": \"number\",\n        \"std\": 9,\n        \"min\": 92,\n        \"max\": 128,\n        \"num_unique_values\": 18,\n        \"samples\": [\n          95,\n          115,\n          122\n        ],\n        \"semantic_type\": \"\",\n        \"description\": \"\"\n      }\n    },\n    {\n      \"column\": \"pages\",\n      \"properties\": {\n        \"dtype\": \"number\",\n        \"std\": 21,\n        \"min\": 16,\n        \"max\": 90,\n        \"num_unique_values\": 7,\n        \"samples\": [\n          24,\n          32,\n          48\n        ],\n        \"semantic_type\": \"\",\n        \"description\": \"\"\n      }\n    },\n    {\n      \"column\": \"age\",\n      \"properties\": {\n        \"dtype\": \"number\",\n        \"std\": 3,\n        \"min\": 19,\n        \"max\": 30,\n        \"num_unique_values\": 9,\n        \"samples\": [\n          21,\n          25,\n          26\n        ],\n        \"semantic_type\": \"\",\n        \"description\": \"\"\n      }\n    },\n    {\n      \"column\": \"bmi\",\n      \"properties\": {\n        \"dtype\": \"number\",\n        \"std\": 0.4361480042129591,\n        \"min\": 2.011,\n        \"max\": 3.533,\n        \"num_unique_values\": 19,\n        \"samples\": [\n          3.533,\n          2.828,\n          2.672\n        ],\n        \"semantic_type\": \"\",\n        \"description\": \"\"\n      }\n    },\n    {\n      \"column\": \"work_exp\",\n      \"properties\": {\n        \"dtype\": \"number\",\n        \"std\": 35,\n        \"min\": 10,\n        \"max\": 130,\n        \"num_unique_values\": 20,\n        \"samples\": [\n          26,\n          70,\n          21\n        ],\n        \"semantic_type\": \"\",\n        \"description\": \"\"\n      }\n    },\n    {\n      \"column\": \"friends\",\n      \"properties\": {\n        \"dtype\": \"number\",\n        \"std\": 2,\n        \"min\": 1,\n        \"max\": 10,\n        \"num_unique_values\": 10,\n        \"samples\": [\n          8,\n          7,\n          6\n        ],\n        \"semantic_type\": \"\",\n        \"description\": \"\"\n      }\n    },\n    {\n      \"column\": \"test_time\",\n      \"properties\": {\n        \"dtype\": \"number\",\n        \"std\": 2.522968176781592,\n        \"min\": 3.5,\n        \"max\": 12.5,\n        \"num_unique_values\": 19,\n        \"samples\": [\n          8.5,\n          10.0,\n          8.0\n        ],\n        \"semantic_type\": \"\",\n        \"description\": \"\"\n      }\n    }\n  ]\n}"
            }
          },
          "metadata": {}
        }
      ],
      "source": [
        "import pandas as pd\n",
        "\n",
        "url = \"https://raw.githubusercontent.com/poluzerovT/oiad-2-2025/master/datasets/students_simple.csv\"\n",
        "\n",
        "df = pd.read_csv(url)\n",
        "display(df)\n"
      ]
    },
    {
      "cell_type": "code",
      "execution_count": 3,
      "id": "b3cc669b",
      "metadata": {
        "colab": {
          "base_uri": "https://localhost:8080/",
          "height": 36
        },
        "id": "b3cc669b",
        "outputId": "bca5ecee-e1ac-4159-aae4-90d9128a55f5"
      },
      "outputs": [
        {
          "output_type": "execute_result",
          "data": {
            "text/plain": [
              "'income'"
            ],
            "application/vnd.google.colaboratory.intrinsic+json": {
              "type": "string"
            }
          },
          "metadata": {},
          "execution_count": 3
        }
      ],
      "source": [
        "df.columns[2]"
      ]
    },
    {
      "cell_type": "code",
      "execution_count": 4,
      "id": "e52b1771",
      "metadata": {
        "colab": {
          "base_uri": "https://localhost:8080/"
        },
        "id": "e52b1771",
        "outputId": "6215524a-eba0-4e2e-cd32-0723e68d5888"
      },
      "outputs": [
        {
          "output_type": "stream",
          "name": "stdout",
          "text": [
            "Первая колонка:\n",
            "    Номер: 0\n",
            "    Название: height\n",
            "Вторая колонка:\n",
            "    Номер: 5\n",
            "    Название: age\n"
          ]
        }
      ],
      "source": [
        "number: int = 15\n",
        "num_first_column: int = number % 5\n",
        "num_second_column: int = number ** 2 % 5 + 5\n",
        "first_column: str = df.columns[num_first_column]\n",
        "second_column: str = df.columns[num_second_column]\n",
        "print(f\"Первая колонка:\\n    Номер: {num_first_column}\\n    Название: {first_column}\\nВторая колонка:\\n    Номер: {num_second_column}\\n    Название: {second_column}\")"
      ]
    },
    {
      "cell_type": "code",
      "execution_count": 5,
      "id": "aa1d4a97",
      "metadata": {
        "colab": {
          "base_uri": "https://localhost:8080/",
          "height": 676
        },
        "id": "aa1d4a97",
        "outputId": "814400db-6b88-462d-9060-6350e3943762"
      },
      "outputs": [
        {
          "output_type": "display_data",
          "data": {
            "text/plain": [
              "    height  age\n",
              "0      159   20\n",
              "1      160   25\n",
              "2      161   28\n",
              "3      162   19\n",
              "4      162   23\n",
              "5      164   20\n",
              "6      166   26\n",
              "7      169   19\n",
              "8      170   30\n",
              "9      170   20\n",
              "10     171   28\n",
              "11     171   21\n",
              "12     172   26\n",
              "13     174   21\n",
              "14     176   20\n",
              "15     176   19\n",
              "16     178   27\n",
              "17     181   26\n",
              "18     183   23\n",
              "19     192   27"
            ],
            "text/html": [
              "\n",
              "  <div id=\"df-a2195dd1-e195-4b34-b610-81ea45643526\" class=\"colab-df-container\">\n",
              "    <div>\n",
              "<style scoped>\n",
              "    .dataframe tbody tr th:only-of-type {\n",
              "        vertical-align: middle;\n",
              "    }\n",
              "\n",
              "    .dataframe tbody tr th {\n",
              "        vertical-align: top;\n",
              "    }\n",
              "\n",
              "    .dataframe thead th {\n",
              "        text-align: right;\n",
              "    }\n",
              "</style>\n",
              "<table border=\"1\" class=\"dataframe\">\n",
              "  <thead>\n",
              "    <tr style=\"text-align: right;\">\n",
              "      <th></th>\n",
              "      <th>height</th>\n",
              "      <th>age</th>\n",
              "    </tr>\n",
              "  </thead>\n",
              "  <tbody>\n",
              "    <tr>\n",
              "      <th>0</th>\n",
              "      <td>159</td>\n",
              "      <td>20</td>\n",
              "    </tr>\n",
              "    <tr>\n",
              "      <th>1</th>\n",
              "      <td>160</td>\n",
              "      <td>25</td>\n",
              "    </tr>\n",
              "    <tr>\n",
              "      <th>2</th>\n",
              "      <td>161</td>\n",
              "      <td>28</td>\n",
              "    </tr>\n",
              "    <tr>\n",
              "      <th>3</th>\n",
              "      <td>162</td>\n",
              "      <td>19</td>\n",
              "    </tr>\n",
              "    <tr>\n",
              "      <th>4</th>\n",
              "      <td>162</td>\n",
              "      <td>23</td>\n",
              "    </tr>\n",
              "    <tr>\n",
              "      <th>5</th>\n",
              "      <td>164</td>\n",
              "      <td>20</td>\n",
              "    </tr>\n",
              "    <tr>\n",
              "      <th>6</th>\n",
              "      <td>166</td>\n",
              "      <td>26</td>\n",
              "    </tr>\n",
              "    <tr>\n",
              "      <th>7</th>\n",
              "      <td>169</td>\n",
              "      <td>19</td>\n",
              "    </tr>\n",
              "    <tr>\n",
              "      <th>8</th>\n",
              "      <td>170</td>\n",
              "      <td>30</td>\n",
              "    </tr>\n",
              "    <tr>\n",
              "      <th>9</th>\n",
              "      <td>170</td>\n",
              "      <td>20</td>\n",
              "    </tr>\n",
              "    <tr>\n",
              "      <th>10</th>\n",
              "      <td>171</td>\n",
              "      <td>28</td>\n",
              "    </tr>\n",
              "    <tr>\n",
              "      <th>11</th>\n",
              "      <td>171</td>\n",
              "      <td>21</td>\n",
              "    </tr>\n",
              "    <tr>\n",
              "      <th>12</th>\n",
              "      <td>172</td>\n",
              "      <td>26</td>\n",
              "    </tr>\n",
              "    <tr>\n",
              "      <th>13</th>\n",
              "      <td>174</td>\n",
              "      <td>21</td>\n",
              "    </tr>\n",
              "    <tr>\n",
              "      <th>14</th>\n",
              "      <td>176</td>\n",
              "      <td>20</td>\n",
              "    </tr>\n",
              "    <tr>\n",
              "      <th>15</th>\n",
              "      <td>176</td>\n",
              "      <td>19</td>\n",
              "    </tr>\n",
              "    <tr>\n",
              "      <th>16</th>\n",
              "      <td>178</td>\n",
              "      <td>27</td>\n",
              "    </tr>\n",
              "    <tr>\n",
              "      <th>17</th>\n",
              "      <td>181</td>\n",
              "      <td>26</td>\n",
              "    </tr>\n",
              "    <tr>\n",
              "      <th>18</th>\n",
              "      <td>183</td>\n",
              "      <td>23</td>\n",
              "    </tr>\n",
              "    <tr>\n",
              "      <th>19</th>\n",
              "      <td>192</td>\n",
              "      <td>27</td>\n",
              "    </tr>\n",
              "  </tbody>\n",
              "</table>\n",
              "</div>\n",
              "    <div class=\"colab-df-buttons\">\n",
              "\n",
              "  <div class=\"colab-df-container\">\n",
              "    <button class=\"colab-df-convert\" onclick=\"convertToInteractive('df-a2195dd1-e195-4b34-b610-81ea45643526')\"\n",
              "            title=\"Convert this dataframe to an interactive table.\"\n",
              "            style=\"display:none;\">\n",
              "\n",
              "  <svg xmlns=\"http://www.w3.org/2000/svg\" height=\"24px\" viewBox=\"0 -960 960 960\">\n",
              "    <path d=\"M120-120v-720h720v720H120Zm60-500h600v-160H180v160Zm220 220h160v-160H400v160Zm0 220h160v-160H400v160ZM180-400h160v-160H180v160Zm440 0h160v-160H620v160ZM180-180h160v-160H180v160Zm440 0h160v-160H620v160Z\"/>\n",
              "  </svg>\n",
              "    </button>\n",
              "\n",
              "  <style>\n",
              "    .colab-df-container {\n",
              "      display:flex;\n",
              "      gap: 12px;\n",
              "    }\n",
              "\n",
              "    .colab-df-convert {\n",
              "      background-color: #E8F0FE;\n",
              "      border: none;\n",
              "      border-radius: 50%;\n",
              "      cursor: pointer;\n",
              "      display: none;\n",
              "      fill: #1967D2;\n",
              "      height: 32px;\n",
              "      padding: 0 0 0 0;\n",
              "      width: 32px;\n",
              "    }\n",
              "\n",
              "    .colab-df-convert:hover {\n",
              "      background-color: #E2EBFA;\n",
              "      box-shadow: 0px 1px 2px rgba(60, 64, 67, 0.3), 0px 1px 3px 1px rgba(60, 64, 67, 0.15);\n",
              "      fill: #174EA6;\n",
              "    }\n",
              "\n",
              "    .colab-df-buttons div {\n",
              "      margin-bottom: 4px;\n",
              "    }\n",
              "\n",
              "    [theme=dark] .colab-df-convert {\n",
              "      background-color: #3B4455;\n",
              "      fill: #D2E3FC;\n",
              "    }\n",
              "\n",
              "    [theme=dark] .colab-df-convert:hover {\n",
              "      background-color: #434B5C;\n",
              "      box-shadow: 0px 1px 3px 1px rgba(0, 0, 0, 0.15);\n",
              "      filter: drop-shadow(0px 1px 2px rgba(0, 0, 0, 0.3));\n",
              "      fill: #FFFFFF;\n",
              "    }\n",
              "  </style>\n",
              "\n",
              "    <script>\n",
              "      const buttonEl =\n",
              "        document.querySelector('#df-a2195dd1-e195-4b34-b610-81ea45643526 button.colab-df-convert');\n",
              "      buttonEl.style.display =\n",
              "        google.colab.kernel.accessAllowed ? 'block' : 'none';\n",
              "\n",
              "      async function convertToInteractive(key) {\n",
              "        const element = document.querySelector('#df-a2195dd1-e195-4b34-b610-81ea45643526');\n",
              "        const dataTable =\n",
              "          await google.colab.kernel.invokeFunction('convertToInteractive',\n",
              "                                                    [key], {});\n",
              "        if (!dataTable) return;\n",
              "\n",
              "        const docLinkHtml = 'Like what you see? Visit the ' +\n",
              "          '<a target=\"_blank\" href=https://colab.research.google.com/notebooks/data_table.ipynb>data table notebook</a>'\n",
              "          + ' to learn more about interactive tables.';\n",
              "        element.innerHTML = '';\n",
              "        dataTable['output_type'] = 'display_data';\n",
              "        await google.colab.output.renderOutput(dataTable, element);\n",
              "        const docLink = document.createElement('div');\n",
              "        docLink.innerHTML = docLinkHtml;\n",
              "        element.appendChild(docLink);\n",
              "      }\n",
              "    </script>\n",
              "  </div>\n",
              "\n",
              "\n",
              "    <div id=\"df-771c7101-f516-46ad-a34b-7abf92b50b83\">\n",
              "      <button class=\"colab-df-quickchart\" onclick=\"quickchart('df-771c7101-f516-46ad-a34b-7abf92b50b83')\"\n",
              "                title=\"Suggest charts\"\n",
              "                style=\"display:none;\">\n",
              "\n",
              "<svg xmlns=\"http://www.w3.org/2000/svg\" height=\"24px\"viewBox=\"0 0 24 24\"\n",
              "     width=\"24px\">\n",
              "    <g>\n",
              "        <path d=\"M19 3H5c-1.1 0-2 .9-2 2v14c0 1.1.9 2 2 2h14c1.1 0 2-.9 2-2V5c0-1.1-.9-2-2-2zM9 17H7v-7h2v7zm4 0h-2V7h2v10zm4 0h-2v-4h2v4z\"/>\n",
              "    </g>\n",
              "</svg>\n",
              "      </button>\n",
              "\n",
              "<style>\n",
              "  .colab-df-quickchart {\n",
              "      --bg-color: #E8F0FE;\n",
              "      --fill-color: #1967D2;\n",
              "      --hover-bg-color: #E2EBFA;\n",
              "      --hover-fill-color: #174EA6;\n",
              "      --disabled-fill-color: #AAA;\n",
              "      --disabled-bg-color: #DDD;\n",
              "  }\n",
              "\n",
              "  [theme=dark] .colab-df-quickchart {\n",
              "      --bg-color: #3B4455;\n",
              "      --fill-color: #D2E3FC;\n",
              "      --hover-bg-color: #434B5C;\n",
              "      --hover-fill-color: #FFFFFF;\n",
              "      --disabled-bg-color: #3B4455;\n",
              "      --disabled-fill-color: #666;\n",
              "  }\n",
              "\n",
              "  .colab-df-quickchart {\n",
              "    background-color: var(--bg-color);\n",
              "    border: none;\n",
              "    border-radius: 50%;\n",
              "    cursor: pointer;\n",
              "    display: none;\n",
              "    fill: var(--fill-color);\n",
              "    height: 32px;\n",
              "    padding: 0;\n",
              "    width: 32px;\n",
              "  }\n",
              "\n",
              "  .colab-df-quickchart:hover {\n",
              "    background-color: var(--hover-bg-color);\n",
              "    box-shadow: 0 1px 2px rgba(60, 64, 67, 0.3), 0 1px 3px 1px rgba(60, 64, 67, 0.15);\n",
              "    fill: var(--button-hover-fill-color);\n",
              "  }\n",
              "\n",
              "  .colab-df-quickchart-complete:disabled,\n",
              "  .colab-df-quickchart-complete:disabled:hover {\n",
              "    background-color: var(--disabled-bg-color);\n",
              "    fill: var(--disabled-fill-color);\n",
              "    box-shadow: none;\n",
              "  }\n",
              "\n",
              "  .colab-df-spinner {\n",
              "    border: 2px solid var(--fill-color);\n",
              "    border-color: transparent;\n",
              "    border-bottom-color: var(--fill-color);\n",
              "    animation:\n",
              "      spin 1s steps(1) infinite;\n",
              "  }\n",
              "\n",
              "  @keyframes spin {\n",
              "    0% {\n",
              "      border-color: transparent;\n",
              "      border-bottom-color: var(--fill-color);\n",
              "      border-left-color: var(--fill-color);\n",
              "    }\n",
              "    20% {\n",
              "      border-color: transparent;\n",
              "      border-left-color: var(--fill-color);\n",
              "      border-top-color: var(--fill-color);\n",
              "    }\n",
              "    30% {\n",
              "      border-color: transparent;\n",
              "      border-left-color: var(--fill-color);\n",
              "      border-top-color: var(--fill-color);\n",
              "      border-right-color: var(--fill-color);\n",
              "    }\n",
              "    40% {\n",
              "      border-color: transparent;\n",
              "      border-right-color: var(--fill-color);\n",
              "      border-top-color: var(--fill-color);\n",
              "    }\n",
              "    60% {\n",
              "      border-color: transparent;\n",
              "      border-right-color: var(--fill-color);\n",
              "    }\n",
              "    80% {\n",
              "      border-color: transparent;\n",
              "      border-right-color: var(--fill-color);\n",
              "      border-bottom-color: var(--fill-color);\n",
              "    }\n",
              "    90% {\n",
              "      border-color: transparent;\n",
              "      border-bottom-color: var(--fill-color);\n",
              "    }\n",
              "  }\n",
              "</style>\n",
              "\n",
              "      <script>\n",
              "        async function quickchart(key) {\n",
              "          const quickchartButtonEl =\n",
              "            document.querySelector('#' + key + ' button');\n",
              "          quickchartButtonEl.disabled = true;  // To prevent multiple clicks.\n",
              "          quickchartButtonEl.classList.add('colab-df-spinner');\n",
              "          try {\n",
              "            const charts = await google.colab.kernel.invokeFunction(\n",
              "                'suggestCharts', [key], {});\n",
              "          } catch (error) {\n",
              "            console.error('Error during call to suggestCharts:', error);\n",
              "          }\n",
              "          quickchartButtonEl.classList.remove('colab-df-spinner');\n",
              "          quickchartButtonEl.classList.add('colab-df-quickchart-complete');\n",
              "        }\n",
              "        (() => {\n",
              "          let quickchartButtonEl =\n",
              "            document.querySelector('#df-771c7101-f516-46ad-a34b-7abf92b50b83 button');\n",
              "          quickchartButtonEl.style.display =\n",
              "            google.colab.kernel.accessAllowed ? 'block' : 'none';\n",
              "        })();\n",
              "      </script>\n",
              "    </div>\n",
              "    </div>\n",
              "  </div>\n"
            ],
            "application/vnd.google.colaboratory.intrinsic+json": {
              "type": "dataframe",
              "variable_name": "my_df",
              "summary": "{\n  \"name\": \"my_df\",\n  \"rows\": 20,\n  \"fields\": [\n    {\n      \"column\": \"height\",\n      \"properties\": {\n        \"dtype\": \"number\",\n        \"std\": 8,\n        \"min\": 159,\n        \"max\": 192,\n        \"num_unique_values\": 16,\n        \"samples\": [\n          159,\n          160,\n          166\n        ],\n        \"semantic_type\": \"\",\n        \"description\": \"\"\n      }\n    },\n    {\n      \"column\": \"age\",\n      \"properties\": {\n        \"dtype\": \"number\",\n        \"std\": 3,\n        \"min\": 19,\n        \"max\": 30,\n        \"num_unique_values\": 9,\n        \"samples\": [\n          21,\n          25,\n          26\n        ],\n        \"semantic_type\": \"\",\n        \"description\": \"\"\n      }\n    }\n  ]\n}"
            }
          },
          "metadata": {}
        }
      ],
      "source": [
        "my_df = df.iloc[:, [num_first_column, num_second_column]]\n",
        "display(my_df)"
      ]
    },
    {
      "cell_type": "markdown",
      "id": "1c23cebf",
      "metadata": {
        "id": "1c23cebf"
      },
      "source": [
        "## 1. Расчет корреляций\n",
        "1. Фехнера\n",
        "2. Пирсона + доверительный интервал\n",
        "3. Спирмена\n",
        "4. Кенделла"
      ]
    },
    {
      "cell_type": "code",
      "execution_count": 6,
      "id": "2567bab5",
      "metadata": {
        "id": "2567bab5"
      },
      "outputs": [],
      "source": [
        "def corr_fechner(df: pd.DataFrame, first_column: str, second_column: str) -> float:\n",
        "    \"\"\"\n",
        "    Compute Fechner correlation\n",
        "    \"\"\"\n",
        "    X: np.array = df[first_column].to_numpy()\n",
        "    Y: np.array = df[second_column].to_numpy()\n",
        "    mean_X: float = np.mean(X)\n",
        "    mean_Y: float = np.mean(Y)\n",
        "    n_samples: int = X.shape[0] ** 2\n",
        "    num_pos: int = 0\n",
        "    num_neg: int = 0\n",
        "    for x in X:\n",
        "        for y in Y:\n",
        "            if (x - mean_X) * (y - mean_Y) > 0:\n",
        "                num_pos += 1\n",
        "            elif (x - mean_X) * (y - mean_Y) < 0:\n",
        "                num_neg += 1\n",
        "    return (num_pos - num_neg) / n_samples"
      ]
    },
    {
      "cell_type": "code",
      "execution_count": 7,
      "id": "a6cf29cc",
      "metadata": {
        "colab": {
          "base_uri": "https://localhost:8080/"
        },
        "id": "a6cf29cc",
        "outputId": "d05f76d6-e8e5-4579-f706-44e7e2b9cc66"
      },
      "outputs": [
        {
          "output_type": "stream",
          "name": "stdout",
          "text": [
            "Корреляция Фехнера между height и age: 0.0\n"
          ]
        }
      ],
      "source": [
        "print(f\"Корреляция Фехнера между {first_column} и {second_column}: {corr_fechner(my_df, first_column, second_column)}\")"
      ]
    },
    {
      "cell_type": "code",
      "execution_count": 8,
      "id": "208fdcd5",
      "metadata": {
        "id": "208fdcd5"
      },
      "outputs": [],
      "source": [
        "def corr_pearson(df: pd.DataFrame, first_column: str, second_column: str) -> float:\n",
        "    \"\"\"\n",
        "    Compute Pearson correlation\n",
        "    \"\"\"\n",
        "    X: np.array = df[first_column].to_numpy()\n",
        "    Y: np.array = df[second_column].to_numpy()\n",
        "    mean_X: float = np.mean(X)\n",
        "    mean_Y: float = np.mean(Y)\n",
        "    corr: float = np.sum((X - mean_X) * (Y - mean_Y))\n",
        "    norm_corr: float = np.sqrt(np.sum((X - mean_X) ** 2) * np.sum((Y - mean_Y) ** 2))\n",
        "    return corr / norm_corr"
      ]
    },
    {
      "cell_type": "code",
      "execution_count": 9,
      "id": "33005e5f",
      "metadata": {
        "colab": {
          "base_uri": "https://localhost:8080/"
        },
        "id": "33005e5f",
        "outputId": "58d2d45f-3e14-448c-c78b-898d38ed376d"
      },
      "outputs": [
        {
          "output_type": "stream",
          "name": "stdout",
          "text": [
            "Корреляция Пирсона между height и age: 0.19437455140867985\n"
          ]
        }
      ],
      "source": [
        "print(f\"Корреляция Пирсона между {first_column} и {second_column}: {corr_pearson(my_df, first_column, second_column)}\")"
      ]
    },
    {
      "cell_type": "code",
      "execution_count": 10,
      "id": "35b0be56",
      "metadata": {
        "id": "35b0be56"
      },
      "outputs": [],
      "source": [
        "def confidence_interval(df: pd.DataFrame, first_column: str, second_column: str, confidence_level: float = 0.95) -> tuple[float, float]:\n",
        "    \"\"\"\n",
        "    Computer Pearson confidence interval\n",
        "    \"\"\"\n",
        "    corr: float = corr_pearson(df, first_column, second_column)\n",
        "    num_samples: int = df[first_column].shape[0]\n",
        "    z_trans: float = np.log((1 + corr) / (1 - corr)) / 2\n",
        "    stand_err: float = 1 / np.sqrt(num_samples - 3)\n",
        "    z_crit: float = stats.norm.ppf(1 - (1 - confidence_level) / 2)\n",
        "    z_low: float = z_trans - z_crit * stand_err\n",
        "    z_high: float = z_trans + z_crit * stand_err\n",
        "    left_bouder: float = (np.exp(2 * z_low) - 1) / (np.exp(2 * z_low) + 1)\n",
        "    right_bouder: float = (np.exp(2 * z_high) - 1) / (np.exp(2 * z_high) + 1)\n",
        "    return (left_bouder, right_bouder)"
      ]
    },
    {
      "cell_type": "code",
      "execution_count": 11,
      "id": "6d331162",
      "metadata": {
        "colab": {
          "base_uri": "https://localhost:8080/"
        },
        "id": "6d331162",
        "outputId": "f9bd78f5-6d84-45c7-a0b2-081f7b551bb9"
      },
      "outputs": [
        {
          "output_type": "stream",
          "name": "stdout",
          "text": [
            "0.95% доверительный интервал: [-0.271, 0.586]\n"
          ]
        }
      ],
      "source": [
        "confidence_level: float = 0.95\n",
        "left_bound, right_bound = confidence_interval(my_df, first_column, second_column, confidence_level)\n",
        "print(f\"{confidence_level}% доверительный интервал: [{left_bound:.3f}, {right_bound:.3f}]\")"
      ]
    },
    {
      "cell_type": "code",
      "execution_count": 12,
      "id": "91da705b",
      "metadata": {
        "id": "91da705b"
      },
      "outputs": [],
      "source": [
        "def corr_spearman(df: pd.DataFrame, first_column: str, second_column: str) -> float:\n",
        "    \"\"\"\n",
        "    Computer Spearman correlation\n",
        "    \"\"\"\n",
        "    X: np.array = df[first_column].to_numpy()\n",
        "    n_samples: int = X.shape[0]\n",
        "    X_position: np.array = np.array([x for x in range(n_samples)])\n",
        "    X_stack = np.vstack((X, X_position)).T\n",
        "\n",
        "    Y: np.ndarray = df[second_column].to_numpy()\n",
        "    Y_position: np.ndarray= np.array([x for x in range(n_samples)])\n",
        "    Y_stack = np.vstack((Y, Y_position)).T\n",
        "\n",
        "    X_stack = X_stack[X_stack[:, 0].argsort()]\n",
        "    Y_stack = Y_stack[Y_stack[:, 0].argsort()]\n",
        "\n",
        "    rank: np.array = np.array([x + 1 for x in range(n_samples)])\n",
        "    X_pos_rank: np.ndarray = np.column_stack((X_stack, rank))\n",
        "    Y_pos_rank: np.ndarray = np.column_stack((Y_stack, rank))\n",
        "\n",
        "    X_pos_rank = X_pos_rank[X_pos_rank[:, 1].argsort()]\n",
        "    Y_pos_rank = Y_pos_rank[Y_pos_rank[:, 1].argsort()]\n",
        "\n",
        "    diff_rank: np.array = X_pos_rank[:, 2] - Y_pos_rank[:, 2]\n",
        "    norm_coef_spearman: float = n_samples * (n_samples ** 2 - 1)\n",
        "\n",
        "    return 1 - 6 * np.sum(diff_rank ** 2) / norm_coef_spearman"
      ]
    },
    {
      "cell_type": "code",
      "execution_count": 13,
      "id": "a3ef0bd7",
      "metadata": {
        "colab": {
          "base_uri": "https://localhost:8080/"
        },
        "id": "a3ef0bd7",
        "outputId": "cbd56b4c-326e-41c6-a89a-3cdcb72ff9ce"
      },
      "outputs": [
        {
          "output_type": "stream",
          "name": "stdout",
          "text": [
            "Корреляция Спирмена между height и age: 0.1969924812030075\n"
          ]
        }
      ],
      "source": [
        "print(f\"Корреляция Спирмена между {first_column} и {second_column}: {corr_spearman(my_df, first_column, second_column)}\")"
      ]
    },
    {
      "cell_type": "code",
      "execution_count": 14,
      "id": "f8ae0cf1",
      "metadata": {
        "id": "f8ae0cf1"
      },
      "outputs": [],
      "source": [
        "def corr_kendall(df: pd.DataFrame, first_column: str, second_column: str) -> float:\n",
        "    \"\"\"\n",
        "    Computer Kendall correlation\n",
        "    \"\"\"\n",
        "    X: np.array = df[first_column].to_numpy()\n",
        "    n_samples: int = X.shape[0]\n",
        "    Y: np.ndarray = np.array(df[second_column])\n",
        "    n_pos: int = 0\n",
        "    n_neg: int = 0\n",
        "    for j in range(n_samples):\n",
        "        for i in range(j):\n",
        "            if (X[i] - X[j]) * (Y[i] - Y[j]) > 0:\n",
        "                n_pos += 1\n",
        "            elif (X[i] - X[j]) * (Y[i] - Y[j]) < 0:\n",
        "                n_neg += 1\n",
        "    norm_coef: float = n_samples * (n_samples - 1) / 2\n",
        "    return (n_pos - n_neg) / norm_coef"
      ]
    },
    {
      "cell_type": "code",
      "execution_count": 15,
      "id": "30970664",
      "metadata": {
        "colab": {
          "base_uri": "https://localhost:8080/"
        },
        "id": "30970664",
        "outputId": "24b53d9a-f508-4fc6-d9e0-1922190b13c0"
      },
      "outputs": [
        {
          "output_type": "stream",
          "name": "stdout",
          "text": [
            "Корреляция Кенделла между height и age: 0.11578947368421053\n"
          ]
        }
      ],
      "source": [
        "print(f\"Корреляция Кенделла между {first_column} и {second_column}: {corr_kendall(my_df, first_column, second_column)}\")"
      ]
    },
    {
      "cell_type": "markdown",
      "id": "21b5e6dd",
      "metadata": {
        "id": "21b5e6dd"
      },
      "source": [
        "## Выводы\n",
        "\n",
        "1. Корреляция Фехнера = 0.0\n",
        "\n",
        "Корреляция Фехнера просто сравнивает направление отклонений (+/−) относительно средних значений.\n",
        "\n",
        "Значение 0.0 говорит о полном балансе положительных и отрицательных совпадений знаков — то есть, тенденция зависимости по знаку не выражена.\n",
        "\n",
        "2. Корреляция Пирсона = 0.19437455140867985\n",
        "\n",
        "0.95% доверительный интервал: [-0.271, 0.586]\n",
        "\n",
        "Положительная корреляция.\n",
        "\n",
        "3. Корреляция Спирмена = 0.1969924812030075\n",
        "\n",
        "Спирмен оценивает монотонную (не обязательно линейную) зависимость.\n",
        "\n",
        "Значение близкое к корреляции Пирсона подтверждает, что зависимость приблизительно монотонная.\n",
        "\n",
        "\n",
        "\n",
        "4. Корреляция Кенделла = 0.11578947368421053\n",
        "\n",
        "Это ещё один ранговый коэффициент, более «робастный» (устойчив к выбросам).\n",
        "\n",
        "Значение 0.11578947368421053 подтверждает те же тенденции, что и Спирмен, только в более сжатой шкале."
      ]
    },
    {
      "cell_type": "markdown",
      "id": "7d74c661",
      "metadata": {
        "id": "7d74c661"
      },
      "source": [
        "## 2. Визуализация\n",
        "1. Гистограммы\n",
        "2. График рассеяния (scatter plot)"
      ]
    },
    {
      "cell_type": "code",
      "execution_count": 16,
      "id": "acd35a47",
      "metadata": {
        "id": "acd35a47"
      },
      "outputs": [],
      "source": [
        "def print_hist_column(column: str, df: pd.DataFrame, bins: int = 20, color: str = 'skyblue') -> None:\n",
        "    if column not in df.columns:\n",
        "        print(f\"Error: Column '{column}' not found in DataFrame.\")\n",
        "        return\n",
        "    data = df[column]\n",
        "    plt.figure(figsize=(8, 5))\n",
        "    plt.hist(data, bins=bins, color=color, edgecolor='black')\n",
        "    plt.title(f'Distribution of {column}', fontsize=14)\n",
        "    plt.xlabel(column, fontsize=12)\n",
        "    plt.ylabel('Frequency', fontsize=12)\n",
        "    plt.grid(axis='y', alpha=0.3)\n",
        "    plt.show()"
      ]
    },
    {
      "cell_type": "code",
      "execution_count": 17,
      "id": "cfcc631e",
      "metadata": {
        "colab": {
          "base_uri": "https://localhost:8080/",
          "height": 492
        },
        "id": "cfcc631e",
        "outputId": "18546ed2-301a-4e43-a764-9f320d110146"
      },
      "outputs": [
        {
          "output_type": "display_data",
          "data": {
            "text/plain": [
              "<Figure size 800x500 with 1 Axes>"
            ],
            "image/png": "[encoded data removed]"
          },
          "metadata": {}
        }
      ],
      "source": [
        "print_hist_column(first_column, my_df)"
      ]
    },
    {
      "cell_type": "code",
      "execution_count": 18,
      "id": "f0f29a45",
      "metadata": {
        "colab": {
          "base_uri": "https://localhost:8080/",
          "height": 492
        },
        "id": "f0f29a45",
        "outputId": "79dea462-49b4-4ce5-d203-f2dbf274491c"
      },
      "outputs": [
        {
          "output_type": "display_data",
          "data": {
            "text/plain": [
              "<Figure size 800x500 with 1 Axes>"
            ],
            "image/png": "[encoded data removed]"
          },
          "metadata": {}
        }
      ],
      "source": [
        "print_hist_column(second_column, my_df)"
      ]
    },
    {
      "cell_type": "code",
      "execution_count": 19,
      "id": "6f5517b3",
      "metadata": {
        "id": "6f5517b3"
      },
      "outputs": [],
      "source": [
        "def print_scatter(df: pd.DataFrame, x_col: str, y_col: str, fig_size: tuple[int, int] = (8, 6)) -> None:\n",
        "    \"\"\"\n",
        "    Plots a scatter plot for two numeric features from the given DataFrame.\n",
        "\n",
        "    The scatter plot visualizes the relationship between two variables,\n",
        "    helping to identify potential linear or nonlinear correlations and outliers.\n",
        "\n",
        "    :param df: DataFrame containing numeric features\n",
        "    :param x_col: Name of the column to plot on the X-axis\n",
        "    :param y_col: Name of the column to plot on the Y-axis\n",
        "    :param fig_size: Tuple specifying figure size in inches (default = (8, 6))\n",
        "    :return: None\n",
        "    \"\"\"\n",
        "    plt.figure(figsize=fig_size)\n",
        "    sns.scatterplot(\n",
        "        data=df,\n",
        "        x=x_col,\n",
        "        y=y_col,\n",
        "        color=\"steelblue\",\n",
        "        edgecolor=\"white\",\n",
        "        s=70,\n",
        "        alpha=0.7\n",
        "    )\n",
        "\n",
        "    plt.title(f\"Scatter Plot: {x_col} vs {y_col}\", fontsize=14, fontweight=\"bold\", pad=12)\n",
        "    plt.xlabel(x_col, fontsize=12)\n",
        "    plt.ylabel(y_col, fontsize=12)\n",
        "    plt.grid(True, linestyle=\"--\", alpha=0.5)\n",
        "    plt.tight_layout()\n",
        "    plt.show()"
      ]
    },
    {
      "cell_type": "code",
      "execution_count": 20,
      "id": "f82e44b2",
      "metadata": {
        "colab": {
          "base_uri": "https://localhost:8080/",
          "height": 606
        },
        "id": "f82e44b2",
        "outputId": "1211e46b-d835-4b30-8d2a-918dacb901ad"
      },
      "outputs": [
        {
          "output_type": "display_data",
          "data": {
            "text/plain": [
              "<Figure size 800x600 with 1 Axes>"
            ],
            "image/png": "[encoded data removed]"
          },
          "metadata": {}
        }
      ],
      "source": [
        "print_scatter(my_df, first_column, second_column)"
      ]
    },
    {
      "cell_type": "markdown",
      "source": [
        "Гистограммы позволяют оценить распределение значений выбранных признаков и возможные выбросы.\n",
        "\n",
        "График рассеяния показывает взаимосвязь между признаками.\n",
        "Если точки группируются вдоль прямой линии, можно предположить наличие линейной корреляции."
      ],
      "metadata": {
        "id": "WnRibdjjYBLd"
      },
      "id": "WnRibdjjYBLd"
    },
    {
      "cell_type": "markdown",
      "id": "54de5e9e",
      "metadata": {
        "id": "54de5e9e"
      },
      "source": [
        "## 3. Уравнение регрессии\n",
        "Построить уравнение регрессии по видам:\n",
        "1. линейная, $y=w_1 x + w_0$\n",
        "2. квадратичная, $y = w_2 x^2 + w_1 x + w_0$\n",
        "3. гиперболическая, $y = \\frac{w_1}{x} + w_0$\n",
        "4. показательная, $y = w_1^x \\cdot w_0$"
      ]
    },
    {
      "cell_type": "code",
      "execution_count": 21,
      "id": "f9afd947",
      "metadata": {
        "id": "f9afd947"
      },
      "outputs": [],
      "source": [
        "x: np.array = df[first_column].to_numpy()\n",
        "y: np.array = df[second_column].to_numpy()"
      ]
    },
    {
      "cell_type": "code",
      "execution_count": 22,
      "id": "7b9114d3",
      "metadata": {
        "colab": {
          "base_uri": "https://localhost:8080/"
        },
        "id": "7b9114d3",
        "outputId": "902bc1a4-398a-4a66-e7b0-c971a949af7b"
      },
      "outputs": [
        {
          "output_type": "stream",
          "name": "stdout",
          "text": [
            "Коэффициенты линейной регрессии: w1 = 0.0823, w0 = 9.3470\n",
            "Уравнение: y = 0.0823 * x + 9.3470\n"
          ]
        }
      ],
      "source": [
        "w1, w0 = np.polyfit(x, y, 1)\n",
        "print(f\"Коэффициенты линейной регрессии: w1 = {w1:.4f}, w0 = {w0:.4f}\")\n",
        "print(f\"Уравнение: y = {w1:.4f} * x + {w0:.4f}\")"
      ]
    },
    {
      "cell_type": "code",
      "execution_count": 23,
      "id": "7d9d7a7a",
      "metadata": {
        "colab": {
          "base_uri": "https://localhost:8080/"
        },
        "id": "7d9d7a7a",
        "outputId": "c726d188-852b-41f3-8603-a5d075e3159e"
      },
      "outputs": [
        {
          "output_type": "stream",
          "name": "stdout",
          "text": [
            "Коэффициенты квадратичной регрессии: w2 = 0.0053, w1 = -1.7715, w0 = 169.6891\n",
            "Уравнение: y = 0.0053 * x ^ 2 + -1.7715 * x + 169.6891\n"
          ]
        }
      ],
      "source": [
        "w2, w1, w0 = np.polyfit(x, y, 2)\n",
        "print(f\"Коэффициенты квадратичной регрессии: w2 = {w2:.4f}, w1 = {w1:.4f}, w0 = {w0:.4f}\")\n",
        "print(f\"Уравнение: y = {w2:.4f} * x ^ 2 + {w1:.4f} * x + {w0:.4f}\")"
      ]
    },
    {
      "cell_type": "code",
      "execution_count": 24,
      "id": "447d0bab",
      "metadata": {
        "colab": {
          "base_uri": "https://localhost:8080/"
        },
        "id": "447d0bab",
        "outputId": "37be4bb7-4642-420a-dd9e-f6408a001e62"
      },
      "outputs": [
        {
          "output_type": "stream",
          "name": "stdout",
          "text": [
            "Коэффициенты гиперболической регрессии: w1 = -2351.7113, w0 = 37.1970\n",
            "Уравнение: y = -2351.7113 / x + 37.1970\n"
          ]
        }
      ],
      "source": [
        "w1, w0 = np.polyfit(1 / x, y, 1)\n",
        "print(f\"Коэффициенты гиперболической регрессии: w1 = {w1:.4f}, w0 = {w0:.4f}\")\n",
        "print(f\"Уравнение: y = {w1:.4f} / x + {w0:.4f}\")"
      ]
    },
    {
      "cell_type": "code",
      "execution_count": 25,
      "id": "ed71fd7d",
      "metadata": {
        "colab": {
          "base_uri": "https://localhost:8080/"
        },
        "id": "ed71fd7d",
        "outputId": "cf09a5d9-f176-4240-c000-25a85abedc00"
      },
      "outputs": [
        {
          "output_type": "stream",
          "name": "stdout",
          "text": [
            "Коэффициенты показательной регрессии: w0 = 12.4755, w1 = 1.0036\n",
            "Уравнение: y = 12.4755 * 1.0036^x\n"
          ]
        }
      ],
      "source": [
        "# ln(y) = ln(w0) + x * ln(w1)\n",
        "mask = y > 0\n",
        "x_safe = x[mask]\n",
        "y_safe = y[mask]\n",
        "\n",
        "ln_y = np.log(y_safe)\n",
        "\n",
        "w1_log, w0_log = np.polyfit(x_safe, ln_y, 1)\n",
        "\n",
        "w0 = np.exp(w0_log)\n",
        "w1 = np.exp(w1_log)\n",
        "\n",
        "print(f\"Коэффициенты показательной регрессии: w0 = {w0:.4f}, w1 = {w1:.4f}\")\n",
        "print(f\"Уравнение: y = {w0:.4f} * {w1:.4f}^x\")"
      ]
    },
    {
      "cell_type": "markdown",
      "id": "cfe81106",
      "metadata": {
        "id": "cfe81106"
      },
      "source": [
        "\n",
        "\n",
        "### **Вывод**\n",
        "\n",
        "В ходе выполнения задания были построены четыре вида уравнений регрессии с использованием метода наименьших квадратов:\n",
        "\n",
        "1. **Линейная регрессия:**\n",
        "   ( y = 0.0823x + 9.3470 )\n",
        "   — наблюдается слабая положительная зависимость между переменными.\n",
        "\n",
        "2. **Квадратичная регрессия:**\n",
        "   ( y = 0.0053x^2 - 1.7715x + 169.6891 )\n",
        "   — учитывает возможную нелинейность, может лучше описывать данные при наличии изгиба в графике.\n",
        "\n",
        "3. **Гиперболическая регрессия:**\n",
        "   ( y = \\frac{-2351.7113}{x} + 37.1970 )\n",
        "   — показывает обратную зависимость: при увеличении (x) значения (y) уменьшаются и стабилизируются около константы.\n",
        "\n",
        "4. **Показательная регрессия:**\n",
        "   ( y = 12.4755 \\cdot 1.0036^x )\n",
        "   — отображает слабый рост (y) при увеличении (x).\n",
        "\n",
        "Сравнивая визуально графики (при их построении), можно сделать вывод, что **линейная и показательная модели** лучше описывают общую тенденцию данных, тогда как **гиперболическая** модель подходит хуже.\n",
        "\n"
      ]
    },
    {
      "cell_type": "markdown",
      "id": "7dfee9ac",
      "metadata": {
        "id": "7dfee9ac"
      },
      "source": [
        "## 4. Проверка уравнения регрессии\n",
        "Для наилучшего и наихудшего уравнения регрессии проверить соотвествие модели данным с помощью критерия Фишера"
      ]
    },
    {
      "cell_type": "markdown",
      "id": "5ea6f20e",
      "metadata": {
        "id": "5ea6f20e"
      },
      "source": [
        "##  Алгоритм проверки уравнения регрессии (критерий Фишера)\n",
        "\n",
        "1. **Вычислить среднее значение:**\n",
        "   $ \\bar{y} = \\frac{1}{n} \\sum_{i=1}^{n} y_i $\n",
        "\n",
        "2. **Вычислить суммы квадратов:**\n",
        "   - **Общая дисперсия:**\n",
        "     $ S_t = \\sum (y_i - \\bar{y})^2 $\n",
        "   - **Объяснённая регрессией:**\n",
        "     $ S_r = \\sum (\\hat{y}_i - \\bar{y})^2 $\n",
        "   - **Остаточная (ошибки):**\n",
        "     $ S_e = \\sum (y_i - \\hat{y}_i)^2 $\n",
        "\n",
        "3. **Вычислить наблюдаемое значение критерия Фишера:**\n",
        "   $ F = \\frac{S_r / k}{S_e / (n - k - 1)} $\n",
        "\n",
        "   где  \n",
        "   $ n $ — количество наблюдений,  \n",
        "   $ k $ — число коэффициентов модели (без свободного члена).\n",
        "\n",
        "4. **Найти критическое значение:**\n",
        "   $ F_{\\text{кр}} = F_{1 - \\alpha}(k, n - k - 1) $\n",
        "\n",
        "   (по таблице распределения Фишера при уровне значимости $ \\alpha = 0.05 $)\n",
        "\n",
        "5. **Сделать вывод:**\n",
        "   - Если $ F > F_{\\text{кр}} $ → **модель значима**  \n",
        "   - Если $ F \\le F_{\\text{кр}} $ → **модель незначима**\n",
        "\n"
      ]
    },
    {
      "cell_type": "code",
      "execution_count": 26,
      "id": "c4388db3",
      "metadata": {
        "id": "c4388db3"
      },
      "outputs": [],
      "source": [
        "def fisher_test(x: np.ndarray, y: np.ndarray, y_pred: np.ndarray, k: int, model_name: str):\n",
        "    n = len(x)\n",
        "    y_mean = np.mean(y)\n",
        "\n",
        "    S_t = np.sum((y - y_mean) ** 2)\n",
        "    S_r = np.sum((y_pred - y_mean) ** 2)\n",
        "    S_e = np.sum((y - y_pred) ** 2)\n",
        "\n",
        "    F = (S_r / k) / (S_e / (n - k - 1))\n",
        "    F_crit = stats.f.ppf(0.95, k, n - k - 1)\n",
        "\n",
        "    print(f\"{model_name}\")\n",
        "    print(f\"F = {F:.3f}, F_кр = {F_crit:.3f}\")\n",
        "    if F > F_crit:\n",
        "        print(\"Модель значима (хорошо описывает данные)\")\n",
        "    else:\n",
        "        print(\"Модель незначима (плохое соответствие данным)\")\n",
        "    print(\"-\" * 60)\n",
        "    return F, F_crit"
      ]
    },
    {
      "cell_type": "code",
      "execution_count": 27,
      "id": "35f6b5e6",
      "metadata": {
        "colab": {
          "base_uri": "https://localhost:8080/"
        },
        "id": "35f6b5e6",
        "outputId": "49a0f5e0-4390-4992-c91b-63fa336a9b3c"
      },
      "outputs": [
        {
          "output_type": "stream",
          "name": "stdout",
          "text": [
            "Линейная модель\n",
            "F = 0.707, F_кр = 4.414\n",
            "Модель незначима (плохое соответствие данным)\n",
            "------------------------------------------------------------\n"
          ]
        }
      ],
      "source": [
        "w1, w0 = np.polyfit(x, y, 1)\n",
        "y_pred_lin = w1 * x + w0\n",
        "F, F_crit = fisher_test(x, y, y_pred_lin, k=1, model_name=\"Линейная модель\")"
      ]
    },
    {
      "cell_type": "code",
      "execution_count": 28,
      "id": "f521d16c",
      "metadata": {
        "colab": {
          "base_uri": "https://localhost:8080/"
        },
        "id": "f521d16c",
        "outputId": "71507f36-3821-4a17-90f7-7c9dd0da7533"
      },
      "outputs": [
        {
          "output_type": "stream",
          "name": "stdout",
          "text": [
            "Квадратичная модель\n",
            "F = 0.503, F_кр = 3.592\n",
            "Модель незначима (плохое соответствие данным)\n",
            "------------------------------------------------------------\n"
          ]
        }
      ],
      "source": [
        "w2, w1, w0 = np.polyfit(x, y, 2)\n",
        "y_pred_quad = w2 * x**2 + w1 * x + w0\n",
        "F, F_crit = fisher_test(x, y, y_pred_quad, k=2, model_name=\"Квадратичная модель\")"
      ]
    },
    {
      "cell_type": "code",
      "execution_count": 29,
      "id": "c9c7509a",
      "metadata": {
        "colab": {
          "base_uri": "https://localhost:8080/"
        },
        "id": "c9c7509a",
        "outputId": "5501420f-95c9-419a-aea8-00c91efb8cff"
      },
      "outputs": [
        {
          "output_type": "stream",
          "name": "stdout",
          "text": [
            "Гиперболическая модель\n",
            "F = 0.647, F_кр = 4.414\n",
            "Модель незначима (плохое соответствие данным)\n",
            "------------------------------------------------------------\n"
          ]
        }
      ],
      "source": [
        "w1, w0 = np.polyfit(1 / x, y, 1)\n",
        "y_pred_hyp = w1 / x + w0\n",
        "F, F_crit = fisher_test(x, y, y_pred_hyp, k=1, model_name=\"Гиперболическая модель\")"
      ]
    },
    {
      "cell_type": "code",
      "execution_count": 30,
      "id": "6a2dccff",
      "metadata": {
        "colab": {
          "base_uri": "https://localhost:8080/"
        },
        "id": "6a2dccff",
        "outputId": "84741bd5-5cd5-43d8-914e-94e5eeb37b8e"
      },
      "outputs": [
        {
          "output_type": "stream",
          "name": "stdout",
          "text": [
            "Показательная модель\n",
            "F = 0.838, F_кр = 4.414\n",
            "Модель незначима (плохое соответствие данным)\n",
            "------------------------------------------------------------\n"
          ]
        }
      ],
      "source": [
        "ln_y = np.log(y)\n",
        "b, a = np.polyfit(x, ln_y, 1)\n",
        "w1, w0 = np.exp(b), np.exp(a)\n",
        "y_pred_exp = w0 * (w1 ** x)\n",
        "F, F_crit = fisher_test(x, y, y_pred_exp, k=1, model_name=\"Показательная модель\")"
      ]
    },
    {
      "cell_type": "markdown",
      "source": [
        "Вывод\n",
        "\n",
        "Для всех четырёх видов регрессионных моделей (линейной, квадратичной, гиперболической и показательной) была проведена проверка значимости уравнений с использованием критерия Фишера при уровне значимости\n",
        "\n",
        "α=0.05.\n",
        "\n",
        "Результаты показали, что во всех случаях наблюдаемое значение критерия\n",
        "\n",
        "F меньше критического\n",
        "F\n",
        "кр\n",
        ".\n",
        "Это означает, что различия между объяснённой и остаточной дисперсией статистически незначимы,\n",
        "а следовательно, построенные модели не описывают достоверную зависимость между переменными.\n",
        "\n",
        "На основании анализа можно сделать вывод, что:\n",
        "\n",
        "зависимость между выбранными переменными либо очень слабая,\n",
        "\n",
        "либо данные содержат сильный шум,\n",
        "\n",
        "либо для описания связи требуется иная (нелинейная или составная) модель.\n",
        "\n",
        "Таким образом, ни одна из исследованных моделей не является статистически значимой, и для более точного описания зависимости следует провести дополнительный анализ данных (например, нормализацию, удаление выбросов или подбор другой формы регрессии)."
      ],
      "metadata": {
        "id": "nEYCACA7emvf"
      },
      "id": "nEYCACA7emvf"
    },
    {
      "cell_type": "markdown",
      "id": "6c479a55",
      "metadata": {
        "id": "6c479a55"
      },
      "source": [
        "# 5. Все графики"
      ]
    },
    {
      "cell_type": "code",
      "execution_count": 31,
      "id": "b2c6ce05",
      "metadata": {
        "id": "b2c6ce05"
      },
      "outputs": [],
      "source": [
        "def plot_regressions(df: pd.DataFrame, x_col: str, y_col: str, fig_size: tuple[int, int] = (8, 6)) -> None:\n",
        "    \"\"\"\n",
        "    Plots a scatter plot with four types of regression lines:\n",
        "    linear, quadratic, hyperbolic, and exponential.\n",
        "\n",
        "    The function visualizes the relationship between two numeric variables\n",
        "    and overlays different regression models to compare their fit.\n",
        "    \"\"\"\n",
        "    x = df[x_col].values.reshape(-1, 1)\n",
        "    y = df[y_col].values\n",
        "\n",
        "    x_range = np.linspace(x.min(), x.max(), 300).reshape(-1, 1)\n",
        "\n",
        "    plt.figure(figsize=fig_size)\n",
        "    sns.scatterplot(data=df, x=x_col, y=y_col, color=\"steelblue\", edgecolor=\"white\", s=70, alpha=0.7)\n",
        "\n",
        "    lin_reg = LinearRegression()\n",
        "    lin_reg.fit(x, y)\n",
        "    y_pred_lin = lin_reg.predict(x_range)\n",
        "    plt.plot(x_range, y_pred_lin, label=f\"Линейная: y = {lin_reg.coef_[0]:.3f}x + {lin_reg.intercept_:.3f}\", linewidth=2)\n",
        "\n",
        "    poly = PolynomialFeatures(degree=2, include_bias=False)\n",
        "    x_poly = poly.fit_transform(x)\n",
        "    quad_reg = LinearRegression()\n",
        "    quad_reg.fit(x_poly, y)\n",
        "    y_pred_quad = quad_reg.predict(poly.transform(x_range))\n",
        "    plt.plot(x_range, y_pred_quad, label=f\"Квадратичная: y = {quad_reg.coef_[1]:.3f}x² + {quad_reg.coef_[0]:.3f}x + {quad_reg.intercept_:.3f}\", linewidth=2)\n",
        "\n",
        "    mask = x.flatten() != 0\n",
        "    x_hyp = (1 / x[mask]).reshape(-1, 1)\n",
        "    y_hyp = y[mask]\n",
        "    hyp_reg = LinearRegression()\n",
        "    hyp_reg.fit(x_hyp, y_hyp)\n",
        "    y_pred_hyp = hyp_reg.predict(1 / x_range)\n",
        "    plt.plot(x_range, y_pred_hyp, label=f\"Гиперболическая: y = {hyp_reg.coef_[0]:.3f}/x + {hyp_reg.intercept_:.3f}\", linewidth=2)\n",
        "\n",
        "    mask = y > 0\n",
        "    x_exp = x[mask]\n",
        "    y_exp = np.log(y[mask])\n",
        "    exp_reg = LinearRegression()\n",
        "    exp_reg.fit(x_exp, y_exp)\n",
        "    w1 = np.exp(exp_reg.coef_[0])\n",
        "    w0 = np.exp(exp_reg.intercept_)\n",
        "    y_pred_exp = w0 * (w1 ** x_range)\n",
        "    plt.plot(x_range, y_pred_exp, label=f\"Показательная: y = {w0:.3f}·({w1:.3f})^x\", linewidth=2)\n",
        "\n",
        "    plt.title(f\"Регрессии для {x_col} vs {y_col}\", fontsize=14, fontweight=\"bold\", pad=12)\n",
        "    plt.xlabel(x_col, fontsize=12)\n",
        "    plt.ylabel(y_col, fontsize=12)\n",
        "    plt.grid(True, linestyle=\"--\", alpha=0.5)\n",
        "    plt.legend(fontsize=9)\n",
        "    plt.tight_layout()\n",
        "    plt.show()"
      ]
    },
    {
      "cell_type": "code",
      "execution_count": 32,
      "id": "818fdb01",
      "metadata": {
        "colab": {
          "base_uri": "https://localhost:8080/",
          "height": 606
        },
        "id": "818fdb01",
        "outputId": "d885ed0c-7e39-46cd-9b24-c0d100fdaadc"
      },
      "outputs": [
        {
          "output_type": "display_data",
          "data": {
            "text/plain": [
              "<Figure size 800x600 with 1 Axes>"
            ],
            "image/png": "[encoded data removed]"
          },
          "metadata": {}
        }
      ],
      "source": [
        "plot_regressions(my_df, first_column, second_column)"
      ]
    }
  ],
  "metadata": {
    "kernelspec": {
      "display_name": ".venv (3.12.3)",
      "language": "python",
      "name": "python3"
    },
    "language_info": {
      "codemirror_mode": {
        "name": "ipython",
        "version": 3
      },
      "file_extension": ".py",
      "mimetype": "text/x-python",
      "name": "python",
      "nbconvert_exporter": "python",
      "pygments_lexer": "ipython3",
      "version": "3.12.3"
    },
    "colab": {
      "provenance": []
    }
  },
  "nbformat": 4,
  "nbformat_minor": 5
}